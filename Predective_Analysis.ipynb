{
 "cells": [
  {
   "cell_type": "markdown",
   "metadata": {},
   "source": [
    "# Problem Statement"
   ]
  },
  {
   "cell_type": "markdown",
   "metadata": {},
   "source": [
    "Using the transaction dataset, identify the annual salary for each customer"
   ]
  },
  {
   "cell_type": "markdown",
   "metadata": {},
   "source": [
    "Exploring correlations between annual salary and various customer attributes (e.g. age). Visualising interesting correlations using a scatter plot."
   ]
  },
  {
   "cell_type": "markdown",
   "metadata": {},
   "source": [
    "To Build a simple regression model to predict the annual salary for each customer using the attributes identified above, building a decision-tree based model to predict salary, testing its performance."
   ]
  },
  {
   "cell_type": "markdown",
   "metadata": {},
   "source": [
    "# Work Flow"
   ]
  },
  {
   "cell_type": "markdown",
   "metadata": {},
   "source": [
    "1. Loading the data\n",
    "2. Feature Engineering\n",
    "3. Data Splitting\n",
    "4. Data Modeling\n",
    "5. Data Evaluation"
   ]
  },
  {
   "cell_type": "markdown",
   "metadata": {},
   "source": [
    "# Loading the data"
   ]
  },
  {
   "cell_type": "code",
   "execution_count": 1,
   "metadata": {},
   "outputs": [],
   "source": [
    "# importing the required libraries\n",
    "\n",
    "import pandas as pd\n",
    "import numpy as np\n",
    "import matplotlib.pyplot as plt\n",
    "import seaborn as sns"
   ]
  },
  {
   "cell_type": "code",
   "execution_count": 2,
   "metadata": {},
   "outputs": [
    {
     "data": {
      "text/html": [
       "<div>\n",
       "<style scoped>\n",
       "    .dataframe tbody tr th:only-of-type {\n",
       "        vertical-align: middle;\n",
       "    }\n",
       "\n",
       "    .dataframe tbody tr th {\n",
       "        vertical-align: top;\n",
       "    }\n",
       "\n",
       "    .dataframe thead th {\n",
       "        text-align: right;\n",
       "    }\n",
       "</style>\n",
       "<table border=\"1\" class=\"dataframe\">\n",
       "  <thead>\n",
       "    <tr style=\"text-align: right;\">\n",
       "      <th></th>\n",
       "      <th>status</th>\n",
       "      <th>card_present_flag</th>\n",
       "      <th>account</th>\n",
       "      <th>long_lat</th>\n",
       "      <th>txn_description</th>\n",
       "      <th>merchant_id</th>\n",
       "      <th>first_name</th>\n",
       "      <th>balance</th>\n",
       "      <th>date</th>\n",
       "      <th>gender</th>\n",
       "      <th>...</th>\n",
       "      <th>merchant_suburb</th>\n",
       "      <th>merchant_state</th>\n",
       "      <th>extraction</th>\n",
       "      <th>amount</th>\n",
       "      <th>transaction_id</th>\n",
       "      <th>customer_id</th>\n",
       "      <th>merchant_long_lat</th>\n",
       "      <th>movement</th>\n",
       "      <th>weekday</th>\n",
       "      <th>month_name</th>\n",
       "    </tr>\n",
       "  </thead>\n",
       "  <tbody>\n",
       "    <tr>\n",
       "      <th>0</th>\n",
       "      <td>authorized</td>\n",
       "      <td>1.0</td>\n",
       "      <td>ACC-1598451071</td>\n",
       "      <td>153.41 -27.95</td>\n",
       "      <td>POS</td>\n",
       "      <td>81c48296-73be-44a7-befa-d053f48ce7cd</td>\n",
       "      <td>Diana</td>\n",
       "      <td>35.39</td>\n",
       "      <td>2018-08-01</td>\n",
       "      <td>F</td>\n",
       "      <td>...</td>\n",
       "      <td>Ashmore</td>\n",
       "      <td>QLD</td>\n",
       "      <td>2018-08-01T01:01:15.000+0000</td>\n",
       "      <td>16.25</td>\n",
       "      <td>a623070bfead4541a6b0fff8a09e706c</td>\n",
       "      <td>CUS-2487424745</td>\n",
       "      <td>153.38 -27.99</td>\n",
       "      <td>debit</td>\n",
       "      <td>Wednesday</td>\n",
       "      <td>August</td>\n",
       "    </tr>\n",
       "    <tr>\n",
       "      <th>1</th>\n",
       "      <td>authorized</td>\n",
       "      <td>0.0</td>\n",
       "      <td>ACC-1598451071</td>\n",
       "      <td>153.41 -27.95</td>\n",
       "      <td>SALES-POS</td>\n",
       "      <td>830a451c-316e-4a6a-bf25-e37caedca49e</td>\n",
       "      <td>Diana</td>\n",
       "      <td>21.20</td>\n",
       "      <td>2018-08-01</td>\n",
       "      <td>F</td>\n",
       "      <td>...</td>\n",
       "      <td>Sydney</td>\n",
       "      <td>NSW</td>\n",
       "      <td>2018-08-01T01:13:45.000+0000</td>\n",
       "      <td>14.19</td>\n",
       "      <td>13270a2a902145da9db4c951e04b51b9</td>\n",
       "      <td>CUS-2487424745</td>\n",
       "      <td>151.21 -33.87</td>\n",
       "      <td>debit</td>\n",
       "      <td>Wednesday</td>\n",
       "      <td>August</td>\n",
       "    </tr>\n",
       "    <tr>\n",
       "      <th>2</th>\n",
       "      <td>authorized</td>\n",
       "      <td>1.0</td>\n",
       "      <td>ACC-1222300524</td>\n",
       "      <td>151.23 -33.94</td>\n",
       "      <td>POS</td>\n",
       "      <td>835c231d-8cdf-4e96-859d-e9d571760cf0</td>\n",
       "      <td>Michael</td>\n",
       "      <td>5.71</td>\n",
       "      <td>2018-08-01</td>\n",
       "      <td>M</td>\n",
       "      <td>...</td>\n",
       "      <td>Sydney</td>\n",
       "      <td>NSW</td>\n",
       "      <td>2018-08-01T01:26:15.000+0000</td>\n",
       "      <td>6.42</td>\n",
       "      <td>feb79e7ecd7048a5a36ec889d1a94270</td>\n",
       "      <td>CUS-2142601169</td>\n",
       "      <td>151.21 -33.87</td>\n",
       "      <td>debit</td>\n",
       "      <td>Wednesday</td>\n",
       "      <td>August</td>\n",
       "    </tr>\n",
       "    <tr>\n",
       "      <th>3</th>\n",
       "      <td>authorized</td>\n",
       "      <td>1.0</td>\n",
       "      <td>ACC-1037050564</td>\n",
       "      <td>153.10 -27.66</td>\n",
       "      <td>SALES-POS</td>\n",
       "      <td>48514682-c78a-4a88-b0da-2d6302e64673</td>\n",
       "      <td>Rhonda</td>\n",
       "      <td>2117.22</td>\n",
       "      <td>2018-08-01</td>\n",
       "      <td>F</td>\n",
       "      <td>...</td>\n",
       "      <td>Buderim</td>\n",
       "      <td>QLD</td>\n",
       "      <td>2018-08-01T01:38:45.000+0000</td>\n",
       "      <td>40.90</td>\n",
       "      <td>2698170da3704fd981b15e64a006079e</td>\n",
       "      <td>CUS-1614226872</td>\n",
       "      <td>153.05 -26.68</td>\n",
       "      <td>debit</td>\n",
       "      <td>Wednesday</td>\n",
       "      <td>August</td>\n",
       "    </tr>\n",
       "    <tr>\n",
       "      <th>4</th>\n",
       "      <td>authorized</td>\n",
       "      <td>1.0</td>\n",
       "      <td>ACC-1598451071</td>\n",
       "      <td>153.41 -27.95</td>\n",
       "      <td>SALES-POS</td>\n",
       "      <td>b4e02c10-0852-4273-b8fd-7b3395e32eb0</td>\n",
       "      <td>Diana</td>\n",
       "      <td>17.95</td>\n",
       "      <td>2018-08-01</td>\n",
       "      <td>F</td>\n",
       "      <td>...</td>\n",
       "      <td>Mermaid Beach</td>\n",
       "      <td>QLD</td>\n",
       "      <td>2018-08-01T01:51:15.000+0000</td>\n",
       "      <td>3.25</td>\n",
       "      <td>329adf79878c4cf0aeb4188b4691c266</td>\n",
       "      <td>CUS-2487424745</td>\n",
       "      <td>153.44 -28.06</td>\n",
       "      <td>debit</td>\n",
       "      <td>Wednesday</td>\n",
       "      <td>August</td>\n",
       "    </tr>\n",
       "  </tbody>\n",
       "</table>\n",
       "<p>5 rows × 21 columns</p>\n",
       "</div>"
      ],
      "text/plain": [
       "       status  card_present_flag         account       long_lat  \\\n",
       "0  authorized                1.0  ACC-1598451071  153.41 -27.95   \n",
       "1  authorized                0.0  ACC-1598451071  153.41 -27.95   \n",
       "2  authorized                1.0  ACC-1222300524  151.23 -33.94   \n",
       "3  authorized                1.0  ACC-1037050564  153.10 -27.66   \n",
       "4  authorized                1.0  ACC-1598451071  153.41 -27.95   \n",
       "\n",
       "  txn_description                           merchant_id first_name  balance  \\\n",
       "0             POS  81c48296-73be-44a7-befa-d053f48ce7cd      Diana    35.39   \n",
       "1       SALES-POS  830a451c-316e-4a6a-bf25-e37caedca49e      Diana    21.20   \n",
       "2             POS  835c231d-8cdf-4e96-859d-e9d571760cf0    Michael     5.71   \n",
       "3       SALES-POS  48514682-c78a-4a88-b0da-2d6302e64673     Rhonda  2117.22   \n",
       "4       SALES-POS  b4e02c10-0852-4273-b8fd-7b3395e32eb0      Diana    17.95   \n",
       "\n",
       "        date gender  ...  merchant_suburb merchant_state  \\\n",
       "0 2018-08-01      F  ...          Ashmore            QLD   \n",
       "1 2018-08-01      F  ...           Sydney            NSW   \n",
       "2 2018-08-01      M  ...           Sydney            NSW   \n",
       "3 2018-08-01      F  ...          Buderim            QLD   \n",
       "4 2018-08-01      F  ...    Mermaid Beach            QLD   \n",
       "\n",
       "                     extraction amount                    transaction_id  \\\n",
       "0  2018-08-01T01:01:15.000+0000  16.25  a623070bfead4541a6b0fff8a09e706c   \n",
       "1  2018-08-01T01:13:45.000+0000  14.19  13270a2a902145da9db4c951e04b51b9   \n",
       "2  2018-08-01T01:26:15.000+0000   6.42  feb79e7ecd7048a5a36ec889d1a94270   \n",
       "3  2018-08-01T01:38:45.000+0000  40.90  2698170da3704fd981b15e64a006079e   \n",
       "4  2018-08-01T01:51:15.000+0000   3.25  329adf79878c4cf0aeb4188b4691c266   \n",
       "\n",
       "      customer_id merchant_long_lat movement    weekday month_name  \n",
       "0  CUS-2487424745     153.38 -27.99    debit  Wednesday     August  \n",
       "1  CUS-2487424745     151.21 -33.87    debit  Wednesday     August  \n",
       "2  CUS-2142601169     151.21 -33.87    debit  Wednesday     August  \n",
       "3  CUS-1614226872     153.05 -26.68    debit  Wednesday     August  \n",
       "4  CUS-2487424745     153.44 -28.06    debit  Wednesday     August  \n",
       "\n",
       "[5 rows x 21 columns]"
      ]
     },
     "execution_count": 2,
     "metadata": {},
     "output_type": "execute_result"
    }
   ],
   "source": [
    "# data directory\n",
    "import os\n",
    "import pickle\n",
    "\n",
    "PICKLE_DATA_DIR = os.path.join(\"..\", \"cleaned_data\", \"procesed_data.pkl\")\n",
    "data = pd.read_pickle(PICKLE_DATA_DIR)\n",
    "data.head()"
   ]
  },
  {
   "cell_type": "code",
   "execution_count": 3,
   "metadata": {},
   "outputs": [
    {
     "data": {
      "text/plain": [
       "(12043, 21)"
      ]
     },
     "execution_count": 3,
     "metadata": {},
     "output_type": "execute_result"
    }
   ],
   "source": [
    "data.shape"
   ]
  },
  {
   "cell_type": "markdown",
   "metadata": {},
   "source": [
    "# Feature Engineering"
   ]
  },
  {
   "cell_type": "markdown",
   "metadata": {},
   "source": [
    "**Missing Values**"
   ]
  },
  {
   "cell_type": "code",
   "execution_count": 4,
   "metadata": {},
   "outputs": [
    {
     "data": {
      "text/plain": [
       "status               0\n",
       "card_present_flag    0\n",
       "account              0\n",
       "long_lat             0\n",
       "txn_description      0\n",
       "merchant_id          0\n",
       "first_name           0\n",
       "balance              0\n",
       "date                 0\n",
       "gender               0\n",
       "age                  0\n",
       "merchant_suburb      0\n",
       "merchant_state       0\n",
       "extraction           0\n",
       "amount               0\n",
       "transaction_id       0\n",
       "customer_id          0\n",
       "merchant_long_lat    0\n",
       "movement             0\n",
       "weekday              0\n",
       "month_name           0\n",
       "dtype: int64"
      ]
     },
     "execution_count": 4,
     "metadata": {},
     "output_type": "execute_result"
    }
   ],
   "source": [
    "# checking for missing values in the data\n",
    "data.isnull().sum()"
   ]
  },
  {
   "cell_type": "code",
   "execution_count": 5,
   "metadata": {},
   "outputs": [
    {
     "data": {
      "text/html": [
       "<div>\n",
       "<style scoped>\n",
       "    .dataframe tbody tr th:only-of-type {\n",
       "        vertical-align: middle;\n",
       "    }\n",
       "\n",
       "    .dataframe tbody tr th {\n",
       "        vertical-align: top;\n",
       "    }\n",
       "\n",
       "    .dataframe thead th {\n",
       "        text-align: right;\n",
       "    }\n",
       "</style>\n",
       "<table border=\"1\" class=\"dataframe\">\n",
       "  <thead>\n",
       "    <tr style=\"text-align: right;\">\n",
       "      <th></th>\n",
       "      <th>card_present_flag</th>\n",
       "      <th>balance</th>\n",
       "      <th>age</th>\n",
       "      <th>amount</th>\n",
       "    </tr>\n",
       "  </thead>\n",
       "  <tbody>\n",
       "    <tr>\n",
       "      <th>count</th>\n",
       "      <td>12043.000000</td>\n",
       "      <td>12043.000000</td>\n",
       "      <td>12043.000000</td>\n",
       "      <td>12043.000000</td>\n",
       "    </tr>\n",
       "    <tr>\n",
       "      <th>mean</th>\n",
       "      <td>0.873536</td>\n",
       "      <td>14704.195553</td>\n",
       "      <td>30.582330</td>\n",
       "      <td>187.933588</td>\n",
       "    </tr>\n",
       "    <tr>\n",
       "      <th>std</th>\n",
       "      <td>0.332385</td>\n",
       "      <td>31503.722652</td>\n",
       "      <td>10.046343</td>\n",
       "      <td>592.599934</td>\n",
       "    </tr>\n",
       "    <tr>\n",
       "      <th>min</th>\n",
       "      <td>0.000000</td>\n",
       "      <td>0.240000</td>\n",
       "      <td>18.000000</td>\n",
       "      <td>0.100000</td>\n",
       "    </tr>\n",
       "    <tr>\n",
       "      <th>25%</th>\n",
       "      <td>1.000000</td>\n",
       "      <td>3158.585000</td>\n",
       "      <td>22.000000</td>\n",
       "      <td>16.000000</td>\n",
       "    </tr>\n",
       "    <tr>\n",
       "      <th>50%</th>\n",
       "      <td>1.000000</td>\n",
       "      <td>6432.010000</td>\n",
       "      <td>28.000000</td>\n",
       "      <td>29.000000</td>\n",
       "    </tr>\n",
       "    <tr>\n",
       "      <th>75%</th>\n",
       "      <td>1.000000</td>\n",
       "      <td>12465.945000</td>\n",
       "      <td>38.000000</td>\n",
       "      <td>53.655000</td>\n",
       "    </tr>\n",
       "    <tr>\n",
       "      <th>max</th>\n",
       "      <td>1.000000</td>\n",
       "      <td>267128.520000</td>\n",
       "      <td>78.000000</td>\n",
       "      <td>8835.980000</td>\n",
       "    </tr>\n",
       "  </tbody>\n",
       "</table>\n",
       "</div>"
      ],
      "text/plain": [
       "       card_present_flag        balance           age        amount\n",
       "count       12043.000000   12043.000000  12043.000000  12043.000000\n",
       "mean            0.873536   14704.195553     30.582330    187.933588\n",
       "std             0.332385   31503.722652     10.046343    592.599934\n",
       "min             0.000000       0.240000     18.000000      0.100000\n",
       "25%             1.000000    3158.585000     22.000000     16.000000\n",
       "50%             1.000000    6432.010000     28.000000     29.000000\n",
       "75%             1.000000   12465.945000     38.000000     53.655000\n",
       "max             1.000000  267128.520000     78.000000   8835.980000"
      ]
     },
     "execution_count": 5,
     "metadata": {},
     "output_type": "execute_result"
    }
   ],
   "source": [
    "data.describe()"
   ]
  },
  {
   "cell_type": "markdown",
   "metadata": {},
   "source": [
    "**Categorical Variables**"
   ]
  },
  {
   "cell_type": "code",
   "execution_count": 6,
   "metadata": {},
   "outputs": [
    {
     "data": {
      "text/plain": [
       "['status',\n",
       " 'account',\n",
       " 'long_lat',\n",
       " 'txn_description',\n",
       " 'merchant_id',\n",
       " 'first_name',\n",
       " 'gender',\n",
       " 'merchant_suburb',\n",
       " 'merchant_state',\n",
       " 'extraction',\n",
       " 'transaction_id',\n",
       " 'customer_id',\n",
       " 'merchant_long_lat',\n",
       " 'movement',\n",
       " 'weekday',\n",
       " 'month_name']"
      ]
     },
     "execution_count": 6,
     "metadata": {},
     "output_type": "execute_result"
    }
   ],
   "source": [
    "categorical_features=[feature for feature in data.columns if data[feature].dtypes=='O']\n",
    "categorical_features"
   ]
  },
  {
   "cell_type": "code",
   "execution_count": 7,
   "metadata": {},
   "outputs": [
    {
     "name": "stdout",
     "output_type": "stream",
     "text": [
      "status : 2\n",
      "account : 100\n",
      "long_lat : 100\n",
      "txn_description : 6\n",
      "merchant_id : 5726\n",
      "first_name : 80\n",
      "gender : 2\n",
      "merchant_suburb : 1610\n",
      "merchant_state : 9\n",
      "extraction : 9442\n",
      "transaction_id : 12043\n",
      "customer_id : 100\n",
      "merchant_long_lat : 2704\n",
      "movement : 2\n",
      "weekday : 7\n",
      "month_name : 3\n"
     ]
    }
   ],
   "source": [
    "for feature in categorical_features:\n",
    "    print(feature,':',len(data[feature].unique()))"
   ]
  },
  {
   "cell_type": "code",
   "execution_count": 8,
   "metadata": {},
   "outputs": [
    {
     "data": {
      "text/plain": [
       "Index(['status', 'card_present_flag', 'account', 'long_lat', 'txn_description',\n",
       "       'merchant_id', 'first_name', 'balance', 'date', 'gender', 'age',\n",
       "       'merchant_suburb', 'merchant_state', 'extraction', 'amount',\n",
       "       'transaction_id', 'customer_id', 'merchant_long_lat', 'movement',\n",
       "       'weekday', 'month_name'],\n",
       "      dtype='object')"
      ]
     },
     "execution_count": 8,
     "metadata": {},
     "output_type": "execute_result"
    }
   ],
   "source": [
    "data.columns"
   ]
  },
  {
   "cell_type": "markdown",
   "metadata": {},
   "source": [
    "Since, we need to build a model to predict the annual salary for each customer. Lets look at the types of transactions."
   ]
  },
  {
   "cell_type": "code",
   "execution_count": 9,
   "metadata": {},
   "outputs": [
    {
     "data": {
      "text/plain": [
       "array(['POS', 'SALES-POS', 'PAYMENT', 'INTER BANK', 'PAY/SALARY',\n",
       "       'PHONE BANK'], dtype=object)"
      ]
     },
     "execution_count": 9,
     "metadata": {},
     "output_type": "execute_result"
    }
   ],
   "source": [
    "data.txn_description.unique()"
   ]
  },
  {
   "cell_type": "code",
   "execution_count": 10,
   "metadata": {},
   "outputs": [],
   "source": [
    "# for predicting the annual salary we will concentrate on pay/salary of the transactions feature\n",
    "\n",
    "salaries = data[data['txn_description'] == 'PAY/SALARY'].groupby('customer_id').mean()"
   ]
  },
  {
   "cell_type": "code",
   "execution_count": 11,
   "metadata": {},
   "outputs": [
    {
     "data": {
      "text/plain": [
       "Index(['card_present_flag', 'balance', 'age', 'amount'], dtype='object')"
      ]
     },
     "execution_count": 11,
     "metadata": {},
     "output_type": "execute_result"
    }
   ],
   "source": [
    "salaries.columns"
   ]
  },
  {
   "cell_type": "code",
   "execution_count": 12,
   "metadata": {},
   "outputs": [
    {
     "data": {
      "text/html": [
       "<div>\n",
       "<style scoped>\n",
       "    .dataframe tbody tr th:only-of-type {\n",
       "        vertical-align: middle;\n",
       "    }\n",
       "\n",
       "    .dataframe tbody tr th {\n",
       "        vertical-align: top;\n",
       "    }\n",
       "\n",
       "    .dataframe thead th {\n",
       "        text-align: right;\n",
       "    }\n",
       "</style>\n",
       "<table border=\"1\" class=\"dataframe\">\n",
       "  <thead>\n",
       "    <tr style=\"text-align: right;\">\n",
       "      <th></th>\n",
       "      <th>card_present_flag</th>\n",
       "      <th>balance</th>\n",
       "      <th>age</th>\n",
       "      <th>amount</th>\n",
       "    </tr>\n",
       "    <tr>\n",
       "      <th>customer_id</th>\n",
       "      <th></th>\n",
       "      <th></th>\n",
       "      <th></th>\n",
       "      <th></th>\n",
       "    </tr>\n",
       "  </thead>\n",
       "  <tbody>\n",
       "    <tr>\n",
       "      <th>CUS-1005756958</th>\n",
       "      <td>1.0</td>\n",
       "      <td>4718.665385</td>\n",
       "      <td>53.0</td>\n",
       "      <td>970.47</td>\n",
       "    </tr>\n",
       "    <tr>\n",
       "      <th>CUS-1117979751</th>\n",
       "      <td>1.0</td>\n",
       "      <td>11957.202857</td>\n",
       "      <td>21.0</td>\n",
       "      <td>3578.65</td>\n",
       "    </tr>\n",
       "    <tr>\n",
       "      <th>CUS-1140341822</th>\n",
       "      <td>1.0</td>\n",
       "      <td>5841.720000</td>\n",
       "      <td>28.0</td>\n",
       "      <td>1916.51</td>\n",
       "    </tr>\n",
       "    <tr>\n",
       "      <th>CUS-1147642491</th>\n",
       "      <td>1.0</td>\n",
       "      <td>8813.467692</td>\n",
       "      <td>34.0</td>\n",
       "      <td>1711.39</td>\n",
       "    </tr>\n",
       "    <tr>\n",
       "      <th>CUS-1196156254</th>\n",
       "      <td>1.0</td>\n",
       "      <td>23845.717143</td>\n",
       "      <td>34.0</td>\n",
       "      <td>3903.73</td>\n",
       "    </tr>\n",
       "  </tbody>\n",
       "</table>\n",
       "</div>"
      ],
      "text/plain": [
       "                card_present_flag       balance   age   amount\n",
       "customer_id                                                   \n",
       "CUS-1005756958                1.0   4718.665385  53.0   970.47\n",
       "CUS-1117979751                1.0  11957.202857  21.0  3578.65\n",
       "CUS-1140341822                1.0   5841.720000  28.0  1916.51\n",
       "CUS-1147642491                1.0   8813.467692  34.0  1711.39\n",
       "CUS-1196156254                1.0  23845.717143  34.0  3903.73"
      ]
     },
     "execution_count": 12,
     "metadata": {},
     "output_type": "execute_result"
    }
   ],
   "source": [
    "salaries.head()"
   ]
  },
  {
   "cell_type": "code",
   "execution_count": 13,
   "metadata": {},
   "outputs": [],
   "source": [
    "df =[]\n",
    "for id in data['customer_id']:\n",
    "    df.append(int(salaries.loc[id]['amount'].mean()))\n",
    "data['annual_salary'] = df"
   ]
  },
  {
   "cell_type": "code",
   "execution_count": 14,
   "metadata": {},
   "outputs": [
    {
     "data": {
      "text/html": [
       "<div>\n",
       "<style scoped>\n",
       "    .dataframe tbody tr th:only-of-type {\n",
       "        vertical-align: middle;\n",
       "    }\n",
       "\n",
       "    .dataframe tbody tr th {\n",
       "        vertical-align: top;\n",
       "    }\n",
       "\n",
       "    .dataframe thead th {\n",
       "        text-align: right;\n",
       "    }\n",
       "</style>\n",
       "<table border=\"1\" class=\"dataframe\">\n",
       "  <thead>\n",
       "    <tr style=\"text-align: right;\">\n",
       "      <th></th>\n",
       "      <th>status</th>\n",
       "      <th>card_present_flag</th>\n",
       "      <th>account</th>\n",
       "      <th>long_lat</th>\n",
       "      <th>txn_description</th>\n",
       "      <th>merchant_id</th>\n",
       "      <th>first_name</th>\n",
       "      <th>balance</th>\n",
       "      <th>date</th>\n",
       "      <th>gender</th>\n",
       "      <th>...</th>\n",
       "      <th>merchant_state</th>\n",
       "      <th>extraction</th>\n",
       "      <th>amount</th>\n",
       "      <th>transaction_id</th>\n",
       "      <th>customer_id</th>\n",
       "      <th>merchant_long_lat</th>\n",
       "      <th>movement</th>\n",
       "      <th>weekday</th>\n",
       "      <th>month_name</th>\n",
       "      <th>annual_salary</th>\n",
       "    </tr>\n",
       "  </thead>\n",
       "  <tbody>\n",
       "    <tr>\n",
       "      <th>0</th>\n",
       "      <td>authorized</td>\n",
       "      <td>1.0</td>\n",
       "      <td>ACC-1598451071</td>\n",
       "      <td>153.41 -27.95</td>\n",
       "      <td>POS</td>\n",
       "      <td>81c48296-73be-44a7-befa-d053f48ce7cd</td>\n",
       "      <td>Diana</td>\n",
       "      <td>35.39</td>\n",
       "      <td>2018-08-01</td>\n",
       "      <td>F</td>\n",
       "      <td>...</td>\n",
       "      <td>QLD</td>\n",
       "      <td>2018-08-01T01:01:15.000+0000</td>\n",
       "      <td>16.25</td>\n",
       "      <td>a623070bfead4541a6b0fff8a09e706c</td>\n",
       "      <td>CUS-2487424745</td>\n",
       "      <td>153.38 -27.99</td>\n",
       "      <td>debit</td>\n",
       "      <td>Wednesday</td>\n",
       "      <td>August</td>\n",
       "      <td>1013</td>\n",
       "    </tr>\n",
       "    <tr>\n",
       "      <th>1</th>\n",
       "      <td>authorized</td>\n",
       "      <td>0.0</td>\n",
       "      <td>ACC-1598451071</td>\n",
       "      <td>153.41 -27.95</td>\n",
       "      <td>SALES-POS</td>\n",
       "      <td>830a451c-316e-4a6a-bf25-e37caedca49e</td>\n",
       "      <td>Diana</td>\n",
       "      <td>21.20</td>\n",
       "      <td>2018-08-01</td>\n",
       "      <td>F</td>\n",
       "      <td>...</td>\n",
       "      <td>NSW</td>\n",
       "      <td>2018-08-01T01:13:45.000+0000</td>\n",
       "      <td>14.19</td>\n",
       "      <td>13270a2a902145da9db4c951e04b51b9</td>\n",
       "      <td>CUS-2487424745</td>\n",
       "      <td>151.21 -33.87</td>\n",
       "      <td>debit</td>\n",
       "      <td>Wednesday</td>\n",
       "      <td>August</td>\n",
       "      <td>1013</td>\n",
       "    </tr>\n",
       "    <tr>\n",
       "      <th>2</th>\n",
       "      <td>authorized</td>\n",
       "      <td>1.0</td>\n",
       "      <td>ACC-1222300524</td>\n",
       "      <td>151.23 -33.94</td>\n",
       "      <td>POS</td>\n",
       "      <td>835c231d-8cdf-4e96-859d-e9d571760cf0</td>\n",
       "      <td>Michael</td>\n",
       "      <td>5.71</td>\n",
       "      <td>2018-08-01</td>\n",
       "      <td>M</td>\n",
       "      <td>...</td>\n",
       "      <td>NSW</td>\n",
       "      <td>2018-08-01T01:26:15.000+0000</td>\n",
       "      <td>6.42</td>\n",
       "      <td>feb79e7ecd7048a5a36ec889d1a94270</td>\n",
       "      <td>CUS-2142601169</td>\n",
       "      <td>151.21 -33.87</td>\n",
       "      <td>debit</td>\n",
       "      <td>Wednesday</td>\n",
       "      <td>August</td>\n",
       "      <td>1002</td>\n",
       "    </tr>\n",
       "    <tr>\n",
       "      <th>3</th>\n",
       "      <td>authorized</td>\n",
       "      <td>1.0</td>\n",
       "      <td>ACC-1037050564</td>\n",
       "      <td>153.10 -27.66</td>\n",
       "      <td>SALES-POS</td>\n",
       "      <td>48514682-c78a-4a88-b0da-2d6302e64673</td>\n",
       "      <td>Rhonda</td>\n",
       "      <td>2117.22</td>\n",
       "      <td>2018-08-01</td>\n",
       "      <td>F</td>\n",
       "      <td>...</td>\n",
       "      <td>QLD</td>\n",
       "      <td>2018-08-01T01:38:45.000+0000</td>\n",
       "      <td>40.90</td>\n",
       "      <td>2698170da3704fd981b15e64a006079e</td>\n",
       "      <td>CUS-1614226872</td>\n",
       "      <td>153.05 -26.68</td>\n",
       "      <td>debit</td>\n",
       "      <td>Wednesday</td>\n",
       "      <td>August</td>\n",
       "      <td>892</td>\n",
       "    </tr>\n",
       "    <tr>\n",
       "      <th>4</th>\n",
       "      <td>authorized</td>\n",
       "      <td>1.0</td>\n",
       "      <td>ACC-1598451071</td>\n",
       "      <td>153.41 -27.95</td>\n",
       "      <td>SALES-POS</td>\n",
       "      <td>b4e02c10-0852-4273-b8fd-7b3395e32eb0</td>\n",
       "      <td>Diana</td>\n",
       "      <td>17.95</td>\n",
       "      <td>2018-08-01</td>\n",
       "      <td>F</td>\n",
       "      <td>...</td>\n",
       "      <td>QLD</td>\n",
       "      <td>2018-08-01T01:51:15.000+0000</td>\n",
       "      <td>3.25</td>\n",
       "      <td>329adf79878c4cf0aeb4188b4691c266</td>\n",
       "      <td>CUS-2487424745</td>\n",
       "      <td>153.44 -28.06</td>\n",
       "      <td>debit</td>\n",
       "      <td>Wednesday</td>\n",
       "      <td>August</td>\n",
       "      <td>1013</td>\n",
       "    </tr>\n",
       "  </tbody>\n",
       "</table>\n",
       "<p>5 rows × 22 columns</p>\n",
       "</div>"
      ],
      "text/plain": [
       "       status  card_present_flag         account       long_lat  \\\n",
       "0  authorized                1.0  ACC-1598451071  153.41 -27.95   \n",
       "1  authorized                0.0  ACC-1598451071  153.41 -27.95   \n",
       "2  authorized                1.0  ACC-1222300524  151.23 -33.94   \n",
       "3  authorized                1.0  ACC-1037050564  153.10 -27.66   \n",
       "4  authorized                1.0  ACC-1598451071  153.41 -27.95   \n",
       "\n",
       "  txn_description                           merchant_id first_name  balance  \\\n",
       "0             POS  81c48296-73be-44a7-befa-d053f48ce7cd      Diana    35.39   \n",
       "1       SALES-POS  830a451c-316e-4a6a-bf25-e37caedca49e      Diana    21.20   \n",
       "2             POS  835c231d-8cdf-4e96-859d-e9d571760cf0    Michael     5.71   \n",
       "3       SALES-POS  48514682-c78a-4a88-b0da-2d6302e64673     Rhonda  2117.22   \n",
       "4       SALES-POS  b4e02c10-0852-4273-b8fd-7b3395e32eb0      Diana    17.95   \n",
       "\n",
       "        date gender  ...  merchant_state                    extraction amount  \\\n",
       "0 2018-08-01      F  ...             QLD  2018-08-01T01:01:15.000+0000  16.25   \n",
       "1 2018-08-01      F  ...             NSW  2018-08-01T01:13:45.000+0000  14.19   \n",
       "2 2018-08-01      M  ...             NSW  2018-08-01T01:26:15.000+0000   6.42   \n",
       "3 2018-08-01      F  ...             QLD  2018-08-01T01:38:45.000+0000  40.90   \n",
       "4 2018-08-01      F  ...             QLD  2018-08-01T01:51:15.000+0000   3.25   \n",
       "\n",
       "                     transaction_id     customer_id merchant_long_lat  \\\n",
       "0  a623070bfead4541a6b0fff8a09e706c  CUS-2487424745     153.38 -27.99   \n",
       "1  13270a2a902145da9db4c951e04b51b9  CUS-2487424745     151.21 -33.87   \n",
       "2  feb79e7ecd7048a5a36ec889d1a94270  CUS-2142601169     151.21 -33.87   \n",
       "3  2698170da3704fd981b15e64a006079e  CUS-1614226872     153.05 -26.68   \n",
       "4  329adf79878c4cf0aeb4188b4691c266  CUS-2487424745     153.44 -28.06   \n",
       "\n",
       "  movement    weekday month_name annual_salary  \n",
       "0    debit  Wednesday     August          1013  \n",
       "1    debit  Wednesday     August          1013  \n",
       "2    debit  Wednesday     August          1002  \n",
       "3    debit  Wednesday     August           892  \n",
       "4    debit  Wednesday     August          1013  \n",
       "\n",
       "[5 rows x 22 columns]"
      ]
     },
     "execution_count": 14,
     "metadata": {},
     "output_type": "execute_result"
    }
   ],
   "source": [
    "data.head()"
   ]
  },
  {
   "cell_type": "code",
   "execution_count": 15,
   "metadata": {},
   "outputs": [
    {
     "data": {
      "text/plain": [
       "(12043, 22)"
      ]
     },
     "execution_count": 15,
     "metadata": {},
     "output_type": "execute_result"
    }
   ],
   "source": [
    "data.shape"
   ]
  },
  {
   "cell_type": "code",
   "execution_count": 16,
   "metadata": {},
   "outputs": [
    {
     "data": {
      "text/html": [
       "<div>\n",
       "<style scoped>\n",
       "    .dataframe tbody tr th:only-of-type {\n",
       "        vertical-align: middle;\n",
       "    }\n",
       "\n",
       "    .dataframe tbody tr th {\n",
       "        vertical-align: top;\n",
       "    }\n",
       "\n",
       "    .dataframe thead th {\n",
       "        text-align: right;\n",
       "    }\n",
       "</style>\n",
       "<table border=\"1\" class=\"dataframe\">\n",
       "  <thead>\n",
       "    <tr style=\"text-align: right;\">\n",
       "      <th></th>\n",
       "      <th>status</th>\n",
       "      <th>card_present_flag</th>\n",
       "      <th>account</th>\n",
       "      <th>long_lat</th>\n",
       "      <th>txn_description</th>\n",
       "      <th>merchant_id</th>\n",
       "      <th>first_name</th>\n",
       "      <th>balance</th>\n",
       "      <th>date</th>\n",
       "      <th>gender</th>\n",
       "      <th>...</th>\n",
       "      <th>merchant_state</th>\n",
       "      <th>extraction</th>\n",
       "      <th>amount</th>\n",
       "      <th>transaction_id</th>\n",
       "      <th>customer_id</th>\n",
       "      <th>merchant_long_lat</th>\n",
       "      <th>movement</th>\n",
       "      <th>weekday</th>\n",
       "      <th>month_name</th>\n",
       "      <th>annual_salary</th>\n",
       "    </tr>\n",
       "  </thead>\n",
       "  <tbody>\n",
       "    <tr>\n",
       "      <th>50</th>\n",
       "      <td>posted</td>\n",
       "      <td>1.0</td>\n",
       "      <td>ACC-588564840</td>\n",
       "      <td>151.27 -33.76</td>\n",
       "      <td>PAY/SALARY</td>\n",
       "      <td>Missing</td>\n",
       "      <td>Isaiah</td>\n",
       "      <td>8342.11</td>\n",
       "      <td>2018-08-01</td>\n",
       "      <td>M</td>\n",
       "      <td>...</td>\n",
       "      <td>Missing</td>\n",
       "      <td>2018-08-01T11:00:00.000+0000</td>\n",
       "      <td>3903.95</td>\n",
       "      <td>9ca281650e5d482d9e53f85e959baa66</td>\n",
       "      <td>CUS-1462656821</td>\n",
       "      <td>Missing</td>\n",
       "      <td>credit</td>\n",
       "      <td>Wednesday</td>\n",
       "      <td>August</td>\n",
       "      <td>3903</td>\n",
       "    </tr>\n",
       "    <tr>\n",
       "      <th>61</th>\n",
       "      <td>posted</td>\n",
       "      <td>1.0</td>\n",
       "      <td>ACC-1650504218</td>\n",
       "      <td>145.01 -37.93</td>\n",
       "      <td>PAY/SALARY</td>\n",
       "      <td>Missing</td>\n",
       "      <td>Marissa</td>\n",
       "      <td>2040.58</td>\n",
       "      <td>2018-08-01</td>\n",
       "      <td>F</td>\n",
       "      <td>...</td>\n",
       "      <td>Missing</td>\n",
       "      <td>2018-08-01T12:00:00.000+0000</td>\n",
       "      <td>1626.48</td>\n",
       "      <td>1822eb0e1bbe4c9e95ebbb0fa2cc4323</td>\n",
       "      <td>CUS-2500783281</td>\n",
       "      <td>Missing</td>\n",
       "      <td>credit</td>\n",
       "      <td>Wednesday</td>\n",
       "      <td>August</td>\n",
       "      <td>1626</td>\n",
       "    </tr>\n",
       "    <tr>\n",
       "      <th>64</th>\n",
       "      <td>posted</td>\n",
       "      <td>1.0</td>\n",
       "      <td>ACC-3326339947</td>\n",
       "      <td>151.18 -33.80</td>\n",
       "      <td>PAY/SALARY</td>\n",
       "      <td>Missing</td>\n",
       "      <td>Eric</td>\n",
       "      <td>3158.51</td>\n",
       "      <td>2018-08-01</td>\n",
       "      <td>M</td>\n",
       "      <td>...</td>\n",
       "      <td>Missing</td>\n",
       "      <td>2018-08-01T12:00:00.000+0000</td>\n",
       "      <td>983.36</td>\n",
       "      <td>bd62b1799a454cedbbb56364f7c40cbf</td>\n",
       "      <td>CUS-326006476</td>\n",
       "      <td>Missing</td>\n",
       "      <td>credit</td>\n",
       "      <td>Wednesday</td>\n",
       "      <td>August</td>\n",
       "      <td>983</td>\n",
       "    </tr>\n",
       "    <tr>\n",
       "      <th>68</th>\n",
       "      <td>posted</td>\n",
       "      <td>1.0</td>\n",
       "      <td>ACC-3541460373</td>\n",
       "      <td>145.00 -37.83</td>\n",
       "      <td>PAY/SALARY</td>\n",
       "      <td>Missing</td>\n",
       "      <td>Jeffrey</td>\n",
       "      <td>2517.66</td>\n",
       "      <td>2018-08-01</td>\n",
       "      <td>M</td>\n",
       "      <td>...</td>\n",
       "      <td>Missing</td>\n",
       "      <td>2018-08-01T13:00:00.000+0000</td>\n",
       "      <td>1408.08</td>\n",
       "      <td>0d95c7c932bb48e5b44c2637bdd3efe9</td>\n",
       "      <td>CUS-1433879684</td>\n",
       "      <td>Missing</td>\n",
       "      <td>credit</td>\n",
       "      <td>Wednesday</td>\n",
       "      <td>August</td>\n",
       "      <td>1408</td>\n",
       "    </tr>\n",
       "    <tr>\n",
       "      <th>70</th>\n",
       "      <td>posted</td>\n",
       "      <td>1.0</td>\n",
       "      <td>ACC-2776252858</td>\n",
       "      <td>144.95 -37.76</td>\n",
       "      <td>PAY/SALARY</td>\n",
       "      <td>Missing</td>\n",
       "      <td>Kristin</td>\n",
       "      <td>2271.79</td>\n",
       "      <td>2018-08-01</td>\n",
       "      <td>F</td>\n",
       "      <td>...</td>\n",
       "      <td>Missing</td>\n",
       "      <td>2018-08-01T13:00:00.000+0000</td>\n",
       "      <td>1068.04</td>\n",
       "      <td>f50ccf1195214d14a0acbfcb5a265193</td>\n",
       "      <td>CUS-4123612273</td>\n",
       "      <td>Missing</td>\n",
       "      <td>credit</td>\n",
       "      <td>Wednesday</td>\n",
       "      <td>August</td>\n",
       "      <td>1068</td>\n",
       "    </tr>\n",
       "  </tbody>\n",
       "</table>\n",
       "<p>5 rows × 22 columns</p>\n",
       "</div>"
      ],
      "text/plain": [
       "    status  card_present_flag         account       long_lat txn_description  \\\n",
       "50  posted                1.0   ACC-588564840  151.27 -33.76      PAY/SALARY   \n",
       "61  posted                1.0  ACC-1650504218  145.01 -37.93      PAY/SALARY   \n",
       "64  posted                1.0  ACC-3326339947  151.18 -33.80      PAY/SALARY   \n",
       "68  posted                1.0  ACC-3541460373  145.00 -37.83      PAY/SALARY   \n",
       "70  posted                1.0  ACC-2776252858  144.95 -37.76      PAY/SALARY   \n",
       "\n",
       "   merchant_id first_name  balance       date gender  ...  merchant_state  \\\n",
       "50     Missing     Isaiah  8342.11 2018-08-01      M  ...         Missing   \n",
       "61     Missing    Marissa  2040.58 2018-08-01      F  ...         Missing   \n",
       "64     Missing       Eric  3158.51 2018-08-01      M  ...         Missing   \n",
       "68     Missing    Jeffrey  2517.66 2018-08-01      M  ...         Missing   \n",
       "70     Missing    Kristin  2271.79 2018-08-01      F  ...         Missing   \n",
       "\n",
       "                      extraction   amount                    transaction_id  \\\n",
       "50  2018-08-01T11:00:00.000+0000  3903.95  9ca281650e5d482d9e53f85e959baa66   \n",
       "61  2018-08-01T12:00:00.000+0000  1626.48  1822eb0e1bbe4c9e95ebbb0fa2cc4323   \n",
       "64  2018-08-01T12:00:00.000+0000   983.36  bd62b1799a454cedbbb56364f7c40cbf   \n",
       "68  2018-08-01T13:00:00.000+0000  1408.08  0d95c7c932bb48e5b44c2637bdd3efe9   \n",
       "70  2018-08-01T13:00:00.000+0000  1068.04  f50ccf1195214d14a0acbfcb5a265193   \n",
       "\n",
       "       customer_id merchant_long_lat movement    weekday month_name  \\\n",
       "50  CUS-1462656821           Missing   credit  Wednesday     August   \n",
       "61  CUS-2500783281           Missing   credit  Wednesday     August   \n",
       "64   CUS-326006476           Missing   credit  Wednesday     August   \n",
       "68  CUS-1433879684           Missing   credit  Wednesday     August   \n",
       "70  CUS-4123612273           Missing   credit  Wednesday     August   \n",
       "\n",
       "   annual_salary  \n",
       "50          3903  \n",
       "61          1626  \n",
       "64           983  \n",
       "68          1408  \n",
       "70          1068  \n",
       "\n",
       "[5 rows x 22 columns]"
      ]
     },
     "execution_count": 16,
     "metadata": {},
     "output_type": "execute_result"
    }
   ],
   "source": [
    "pred_sal = data[data['txn_description'] == 'PAY/SALARY']\n",
    "pred_sal.head()"
   ]
  },
  {
   "cell_type": "code",
   "execution_count": 17,
   "metadata": {},
   "outputs": [
    {
     "data": {
      "text/plain": [
       "(883, 22)"
      ]
     },
     "execution_count": 17,
     "metadata": {},
     "output_type": "execute_result"
    }
   ],
   "source": [
    "pred_sal.shape"
   ]
  },
  {
   "cell_type": "code",
   "execution_count": 18,
   "metadata": {},
   "outputs": [
    {
     "data": {
      "text/html": [
       "<div>\n",
       "<style scoped>\n",
       "    .dataframe tbody tr th:only-of-type {\n",
       "        vertical-align: middle;\n",
       "    }\n",
       "\n",
       "    .dataframe tbody tr th {\n",
       "        vertical-align: top;\n",
       "    }\n",
       "\n",
       "    .dataframe thead th {\n",
       "        text-align: right;\n",
       "    }\n",
       "</style>\n",
       "<table border=\"1\" class=\"dataframe\">\n",
       "  <thead>\n",
       "    <tr style=\"text-align: right;\">\n",
       "      <th></th>\n",
       "      <th>status</th>\n",
       "      <th>gender</th>\n",
       "      <th>merchant_state</th>\n",
       "      <th>movement</th>\n",
       "      <th>balance</th>\n",
       "      <th>age</th>\n",
       "      <th>amount</th>\n",
       "      <th>weekday</th>\n",
       "      <th>month_name</th>\n",
       "      <th>annual_salary</th>\n",
       "    </tr>\n",
       "  </thead>\n",
       "  <tbody>\n",
       "    <tr>\n",
       "      <th>50</th>\n",
       "      <td>posted</td>\n",
       "      <td>M</td>\n",
       "      <td>Missing</td>\n",
       "      <td>credit</td>\n",
       "      <td>8342.11</td>\n",
       "      <td>23</td>\n",
       "      <td>3903.95</td>\n",
       "      <td>Wednesday</td>\n",
       "      <td>August</td>\n",
       "      <td>3903</td>\n",
       "    </tr>\n",
       "    <tr>\n",
       "      <th>61</th>\n",
       "      <td>posted</td>\n",
       "      <td>F</td>\n",
       "      <td>Missing</td>\n",
       "      <td>credit</td>\n",
       "      <td>2040.58</td>\n",
       "      <td>23</td>\n",
       "      <td>1626.48</td>\n",
       "      <td>Wednesday</td>\n",
       "      <td>August</td>\n",
       "      <td>1626</td>\n",
       "    </tr>\n",
       "    <tr>\n",
       "      <th>64</th>\n",
       "      <td>posted</td>\n",
       "      <td>M</td>\n",
       "      <td>Missing</td>\n",
       "      <td>credit</td>\n",
       "      <td>3158.51</td>\n",
       "      <td>22</td>\n",
       "      <td>983.36</td>\n",
       "      <td>Wednesday</td>\n",
       "      <td>August</td>\n",
       "      <td>983</td>\n",
       "    </tr>\n",
       "    <tr>\n",
       "      <th>68</th>\n",
       "      <td>posted</td>\n",
       "      <td>M</td>\n",
       "      <td>Missing</td>\n",
       "      <td>credit</td>\n",
       "      <td>2517.66</td>\n",
       "      <td>24</td>\n",
       "      <td>1408.08</td>\n",
       "      <td>Wednesday</td>\n",
       "      <td>August</td>\n",
       "      <td>1408</td>\n",
       "    </tr>\n",
       "    <tr>\n",
       "      <th>70</th>\n",
       "      <td>posted</td>\n",
       "      <td>F</td>\n",
       "      <td>Missing</td>\n",
       "      <td>credit</td>\n",
       "      <td>2271.79</td>\n",
       "      <td>43</td>\n",
       "      <td>1068.04</td>\n",
       "      <td>Wednesday</td>\n",
       "      <td>August</td>\n",
       "      <td>1068</td>\n",
       "    </tr>\n",
       "  </tbody>\n",
       "</table>\n",
       "</div>"
      ],
      "text/plain": [
       "    status gender merchant_state movement  balance  age   amount    weekday  \\\n",
       "50  posted      M        Missing   credit  8342.11   23  3903.95  Wednesday   \n",
       "61  posted      F        Missing   credit  2040.58   23  1626.48  Wednesday   \n",
       "64  posted      M        Missing   credit  3158.51   22   983.36  Wednesday   \n",
       "68  posted      M        Missing   credit  2517.66   24  1408.08  Wednesday   \n",
       "70  posted      F        Missing   credit  2271.79   43  1068.04  Wednesday   \n",
       "\n",
       "   month_name  annual_salary  \n",
       "50     August           3903  \n",
       "61     August           1626  \n",
       "64     August            983  \n",
       "68     August           1408  \n",
       "70     August           1068  "
      ]
     },
     "execution_count": 18,
     "metadata": {},
     "output_type": "execute_result"
    }
   ],
   "source": [
    "pred_sal = pred_sal.filter(['status','gender','merchant_state','movement','balance','age','amount','weekday','month_name','annual_salary'])\n",
    "pred_sal.head()"
   ]
  },
  {
   "cell_type": "code",
   "execution_count": 19,
   "metadata": {},
   "outputs": [],
   "source": [
    "# encoding the features\n",
    "from sklearn.preprocessing import LabelEncoder\n",
    "\n",
    "# label encoding\n",
    "encoder = LabelEncoder()\n",
    "\n",
    "pred_sal.status = encoder.fit_transform(pred_sal.status)\n",
    "pred_sal.gender = encoder.fit_transform(pred_sal.gender)\n",
    "pred_sal.merchant_state = encoder.fit_transform(pred_sal.merchant_state)\n",
    "pred_sal.movement = encoder.fit_transform(pred_sal.movement)\n",
    "pred_sal.weekday = encoder.fit_transform(pred_sal.weekday)\n",
    "pred_sal.month_name = encoder.fit_transform(pred_sal.month_name)"
   ]
  },
  {
   "cell_type": "code",
   "execution_count": 20,
   "metadata": {},
   "outputs": [
    {
     "data": {
      "text/html": [
       "<div>\n",
       "<style scoped>\n",
       "    .dataframe tbody tr th:only-of-type {\n",
       "        vertical-align: middle;\n",
       "    }\n",
       "\n",
       "    .dataframe tbody tr th {\n",
       "        vertical-align: top;\n",
       "    }\n",
       "\n",
       "    .dataframe thead th {\n",
       "        text-align: right;\n",
       "    }\n",
       "</style>\n",
       "<table border=\"1\" class=\"dataframe\">\n",
       "  <thead>\n",
       "    <tr style=\"text-align: right;\">\n",
       "      <th></th>\n",
       "      <th>status</th>\n",
       "      <th>gender</th>\n",
       "      <th>merchant_state</th>\n",
       "      <th>movement</th>\n",
       "      <th>balance</th>\n",
       "      <th>age</th>\n",
       "      <th>amount</th>\n",
       "      <th>weekday</th>\n",
       "      <th>month_name</th>\n",
       "      <th>annual_salary</th>\n",
       "    </tr>\n",
       "  </thead>\n",
       "  <tbody>\n",
       "    <tr>\n",
       "      <th>50</th>\n",
       "      <td>0</td>\n",
       "      <td>1</td>\n",
       "      <td>0</td>\n",
       "      <td>0</td>\n",
       "      <td>8342.11</td>\n",
       "      <td>23</td>\n",
       "      <td>3903.95</td>\n",
       "      <td>4</td>\n",
       "      <td>0</td>\n",
       "      <td>3903</td>\n",
       "    </tr>\n",
       "    <tr>\n",
       "      <th>61</th>\n",
       "      <td>0</td>\n",
       "      <td>0</td>\n",
       "      <td>0</td>\n",
       "      <td>0</td>\n",
       "      <td>2040.58</td>\n",
       "      <td>23</td>\n",
       "      <td>1626.48</td>\n",
       "      <td>4</td>\n",
       "      <td>0</td>\n",
       "      <td>1626</td>\n",
       "    </tr>\n",
       "    <tr>\n",
       "      <th>64</th>\n",
       "      <td>0</td>\n",
       "      <td>1</td>\n",
       "      <td>0</td>\n",
       "      <td>0</td>\n",
       "      <td>3158.51</td>\n",
       "      <td>22</td>\n",
       "      <td>983.36</td>\n",
       "      <td>4</td>\n",
       "      <td>0</td>\n",
       "      <td>983</td>\n",
       "    </tr>\n",
       "    <tr>\n",
       "      <th>68</th>\n",
       "      <td>0</td>\n",
       "      <td>1</td>\n",
       "      <td>0</td>\n",
       "      <td>0</td>\n",
       "      <td>2517.66</td>\n",
       "      <td>24</td>\n",
       "      <td>1408.08</td>\n",
       "      <td>4</td>\n",
       "      <td>0</td>\n",
       "      <td>1408</td>\n",
       "    </tr>\n",
       "    <tr>\n",
       "      <th>70</th>\n",
       "      <td>0</td>\n",
       "      <td>0</td>\n",
       "      <td>0</td>\n",
       "      <td>0</td>\n",
       "      <td>2271.79</td>\n",
       "      <td>43</td>\n",
       "      <td>1068.04</td>\n",
       "      <td>4</td>\n",
       "      <td>0</td>\n",
       "      <td>1068</td>\n",
       "    </tr>\n",
       "  </tbody>\n",
       "</table>\n",
       "</div>"
      ],
      "text/plain": [
       "    status  gender  merchant_state  movement  balance  age   amount  weekday  \\\n",
       "50       0       1               0         0  8342.11   23  3903.95        4   \n",
       "61       0       0               0         0  2040.58   23  1626.48        4   \n",
       "64       0       1               0         0  3158.51   22   983.36        4   \n",
       "68       0       1               0         0  2517.66   24  1408.08        4   \n",
       "70       0       0               0         0  2271.79   43  1068.04        4   \n",
       "\n",
       "    month_name  annual_salary  \n",
       "50           0           3903  \n",
       "61           0           1626  \n",
       "64           0            983  \n",
       "68           0           1408  \n",
       "70           0           1068  "
      ]
     },
     "execution_count": 20,
     "metadata": {},
     "output_type": "execute_result"
    }
   ],
   "source": [
    "pred_sal.head()"
   ]
  },
  {
   "cell_type": "code",
   "execution_count": 21,
   "metadata": {},
   "outputs": [],
   "source": [
    "x = pred_sal.drop('annual_salary',axis = 1)\n",
    "y = pred_sal['annual_salary']"
   ]
  },
  {
   "cell_type": "code",
   "execution_count": 22,
   "metadata": {},
   "outputs": [
    {
     "data": {
      "text/html": [
       "<div>\n",
       "<style scoped>\n",
       "    .dataframe tbody tr th:only-of-type {\n",
       "        vertical-align: middle;\n",
       "    }\n",
       "\n",
       "    .dataframe tbody tr th {\n",
       "        vertical-align: top;\n",
       "    }\n",
       "\n",
       "    .dataframe thead th {\n",
       "        text-align: right;\n",
       "    }\n",
       "</style>\n",
       "<table border=\"1\" class=\"dataframe\">\n",
       "  <thead>\n",
       "    <tr style=\"text-align: right;\">\n",
       "      <th></th>\n",
       "      <th>status</th>\n",
       "      <th>gender</th>\n",
       "      <th>merchant_state</th>\n",
       "      <th>movement</th>\n",
       "      <th>balance</th>\n",
       "      <th>age</th>\n",
       "      <th>amount</th>\n",
       "      <th>weekday</th>\n",
       "      <th>month_name</th>\n",
       "    </tr>\n",
       "  </thead>\n",
       "  <tbody>\n",
       "    <tr>\n",
       "      <th>50</th>\n",
       "      <td>0</td>\n",
       "      <td>1</td>\n",
       "      <td>0</td>\n",
       "      <td>0</td>\n",
       "      <td>8342.11</td>\n",
       "      <td>23</td>\n",
       "      <td>3903.95</td>\n",
       "      <td>4</td>\n",
       "      <td>0</td>\n",
       "    </tr>\n",
       "    <tr>\n",
       "      <th>61</th>\n",
       "      <td>0</td>\n",
       "      <td>0</td>\n",
       "      <td>0</td>\n",
       "      <td>0</td>\n",
       "      <td>2040.58</td>\n",
       "      <td>23</td>\n",
       "      <td>1626.48</td>\n",
       "      <td>4</td>\n",
       "      <td>0</td>\n",
       "    </tr>\n",
       "    <tr>\n",
       "      <th>64</th>\n",
       "      <td>0</td>\n",
       "      <td>1</td>\n",
       "      <td>0</td>\n",
       "      <td>0</td>\n",
       "      <td>3158.51</td>\n",
       "      <td>22</td>\n",
       "      <td>983.36</td>\n",
       "      <td>4</td>\n",
       "      <td>0</td>\n",
       "    </tr>\n",
       "    <tr>\n",
       "      <th>68</th>\n",
       "      <td>0</td>\n",
       "      <td>1</td>\n",
       "      <td>0</td>\n",
       "      <td>0</td>\n",
       "      <td>2517.66</td>\n",
       "      <td>24</td>\n",
       "      <td>1408.08</td>\n",
       "      <td>4</td>\n",
       "      <td>0</td>\n",
       "    </tr>\n",
       "    <tr>\n",
       "      <th>70</th>\n",
       "      <td>0</td>\n",
       "      <td>0</td>\n",
       "      <td>0</td>\n",
       "      <td>0</td>\n",
       "      <td>2271.79</td>\n",
       "      <td>43</td>\n",
       "      <td>1068.04</td>\n",
       "      <td>4</td>\n",
       "      <td>0</td>\n",
       "    </tr>\n",
       "  </tbody>\n",
       "</table>\n",
       "</div>"
      ],
      "text/plain": [
       "    status  gender  merchant_state  movement  balance  age   amount  weekday  \\\n",
       "50       0       1               0         0  8342.11   23  3903.95        4   \n",
       "61       0       0               0         0  2040.58   23  1626.48        4   \n",
       "64       0       1               0         0  3158.51   22   983.36        4   \n",
       "68       0       1               0         0  2517.66   24  1408.08        4   \n",
       "70       0       0               0         0  2271.79   43  1068.04        4   \n",
       "\n",
       "    month_name  \n",
       "50           0  \n",
       "61           0  \n",
       "64           0  \n",
       "68           0  \n",
       "70           0  "
      ]
     },
     "execution_count": 22,
     "metadata": {},
     "output_type": "execute_result"
    }
   ],
   "source": [
    "x.head()"
   ]
  },
  {
   "cell_type": "code",
   "execution_count": 23,
   "metadata": {},
   "outputs": [
    {
     "data": {
      "text/plain": [
       "50    3903\n",
       "61    1626\n",
       "64     983\n",
       "68    1408\n",
       "70    1068\n",
       "Name: annual_salary, dtype: int64"
      ]
     },
     "execution_count": 23,
     "metadata": {},
     "output_type": "execute_result"
    }
   ],
   "source": [
    "y.head()"
   ]
  },
  {
   "cell_type": "markdown",
   "metadata": {},
   "source": [
    "**Feature importance**"
   ]
  },
  {
   "cell_type": "code",
   "execution_count": 24,
   "metadata": {},
   "outputs": [
    {
     "data": {
      "text/plain": [
       "array([0.        , 0.04968297, 0.        , 0.        , 0.11444711,\n",
       "       0.36015328, 0.32446306, 0.14495901, 0.00629457])"
      ]
     },
     "execution_count": 24,
     "metadata": {},
     "output_type": "execute_result"
    }
   ],
   "source": [
    "from sklearn.ensemble import ExtraTreesClassifier\n",
    "\n",
    "model = ExtraTreesClassifier().fit(x,y)\n",
    "model.feature_importances_"
   ]
  },
  {
   "cell_type": "code",
   "execution_count": 25,
   "metadata": {},
   "outputs": [
    {
     "data": {
      "image/png": "[encoded data removed]",
      "text/plain": [
       "<Figure size 432x288 with 1 Axes>"
      ]
     },
     "metadata": {
      "needs_background": "light"
     },
     "output_type": "display_data"
    }
   ],
   "source": [
    "ranked_features = pd.Series(model.feature_importances_, index=x.columns)\n",
    "ranked_features.sort_values().plot(kind='barh')\n",
    "plt.show()"
   ]
  },
  {
   "cell_type": "code",
   "execution_count": 26,
   "metadata": {},
   "outputs": [],
   "source": [
    "# removing the features which are not important \n",
    "x = x[['age','amount','weekday','gender','balance','month_name']]"
   ]
  },
  {
   "cell_type": "code",
   "execution_count": 27,
   "metadata": {},
   "outputs": [
    {
     "data": {
      "text/html": [
       "<div>\n",
       "<style scoped>\n",
       "    .dataframe tbody tr th:only-of-type {\n",
       "        vertical-align: middle;\n",
       "    }\n",
       "\n",
       "    .dataframe tbody tr th {\n",
       "        vertical-align: top;\n",
       "    }\n",
       "\n",
       "    .dataframe thead th {\n",
       "        text-align: right;\n",
       "    }\n",
       "</style>\n",
       "<table border=\"1\" class=\"dataframe\">\n",
       "  <thead>\n",
       "    <tr style=\"text-align: right;\">\n",
       "      <th></th>\n",
       "      <th>age</th>\n",
       "      <th>amount</th>\n",
       "      <th>weekday</th>\n",
       "      <th>gender</th>\n",
       "      <th>balance</th>\n",
       "      <th>month_name</th>\n",
       "    </tr>\n",
       "  </thead>\n",
       "  <tbody>\n",
       "    <tr>\n",
       "      <th>50</th>\n",
       "      <td>23</td>\n",
       "      <td>3903.95</td>\n",
       "      <td>4</td>\n",
       "      <td>1</td>\n",
       "      <td>8342.11</td>\n",
       "      <td>0</td>\n",
       "    </tr>\n",
       "    <tr>\n",
       "      <th>61</th>\n",
       "      <td>23</td>\n",
       "      <td>1626.48</td>\n",
       "      <td>4</td>\n",
       "      <td>0</td>\n",
       "      <td>2040.58</td>\n",
       "      <td>0</td>\n",
       "    </tr>\n",
       "    <tr>\n",
       "      <th>64</th>\n",
       "      <td>22</td>\n",
       "      <td>983.36</td>\n",
       "      <td>4</td>\n",
       "      <td>1</td>\n",
       "      <td>3158.51</td>\n",
       "      <td>0</td>\n",
       "    </tr>\n",
       "    <tr>\n",
       "      <th>68</th>\n",
       "      <td>24</td>\n",
       "      <td>1408.08</td>\n",
       "      <td>4</td>\n",
       "      <td>1</td>\n",
       "      <td>2517.66</td>\n",
       "      <td>0</td>\n",
       "    </tr>\n",
       "    <tr>\n",
       "      <th>70</th>\n",
       "      <td>43</td>\n",
       "      <td>1068.04</td>\n",
       "      <td>4</td>\n",
       "      <td>0</td>\n",
       "      <td>2271.79</td>\n",
       "      <td>0</td>\n",
       "    </tr>\n",
       "  </tbody>\n",
       "</table>\n",
       "</div>"
      ],
      "text/plain": [
       "    age   amount  weekday  gender  balance  month_name\n",
       "50   23  3903.95        4       1  8342.11           0\n",
       "61   23  1626.48        4       0  2040.58           0\n",
       "64   22   983.36        4       1  3158.51           0\n",
       "68   24  1408.08        4       1  2517.66           0\n",
       "70   43  1068.04        4       0  2271.79           0"
      ]
     },
     "execution_count": 27,
     "metadata": {},
     "output_type": "execute_result"
    }
   ],
   "source": [
    "x.head()"
   ]
  },
  {
   "cell_type": "markdown",
   "metadata": {},
   "source": [
    "**Correlation**"
   ]
  },
  {
   "cell_type": "code",
   "execution_count": 28,
   "metadata": {},
   "outputs": [
    {
     "data": {
      "text/html": [
       "<div>\n",
       "<style scoped>\n",
       "    .dataframe tbody tr th:only-of-type {\n",
       "        vertical-align: middle;\n",
       "    }\n",
       "\n",
       "    .dataframe tbody tr th {\n",
       "        vertical-align: top;\n",
       "    }\n",
       "\n",
       "    .dataframe thead th {\n",
       "        text-align: right;\n",
       "    }\n",
       "</style>\n",
       "<table border=\"1\" class=\"dataframe\">\n",
       "  <thead>\n",
       "    <tr style=\"text-align: right;\">\n",
       "      <th></th>\n",
       "      <th>age</th>\n",
       "      <th>amount</th>\n",
       "      <th>weekday</th>\n",
       "      <th>gender</th>\n",
       "      <th>balance</th>\n",
       "      <th>month_name</th>\n",
       "    </tr>\n",
       "  </thead>\n",
       "  <tbody>\n",
       "    <tr>\n",
       "      <th>age</th>\n",
       "      <td>1.000000</td>\n",
       "      <td>-0.138594</td>\n",
       "      <td>-0.063549</td>\n",
       "      <td>0.031567</td>\n",
       "      <td>0.194956</td>\n",
       "      <td>-0.000640</td>\n",
       "    </tr>\n",
       "    <tr>\n",
       "      <th>amount</th>\n",
       "      <td>-0.138594</td>\n",
       "      <td>1.000000</td>\n",
       "      <td>-0.154869</td>\n",
       "      <td>0.181306</td>\n",
       "      <td>0.287501</td>\n",
       "      <td>0.007543</td>\n",
       "    </tr>\n",
       "    <tr>\n",
       "      <th>weekday</th>\n",
       "      <td>-0.063549</td>\n",
       "      <td>-0.154869</td>\n",
       "      <td>1.000000</td>\n",
       "      <td>-0.037365</td>\n",
       "      <td>-0.161711</td>\n",
       "      <td>0.004787</td>\n",
       "    </tr>\n",
       "    <tr>\n",
       "      <th>gender</th>\n",
       "      <td>0.031567</td>\n",
       "      <td>0.181306</td>\n",
       "      <td>-0.037365</td>\n",
       "      <td>1.000000</td>\n",
       "      <td>0.138691</td>\n",
       "      <td>0.001871</td>\n",
       "    </tr>\n",
       "    <tr>\n",
       "      <th>balance</th>\n",
       "      <td>0.194956</td>\n",
       "      <td>0.287501</td>\n",
       "      <td>-0.161711</td>\n",
       "      <td>0.138691</td>\n",
       "      <td>1.000000</td>\n",
       "      <td>0.051479</td>\n",
       "    </tr>\n",
       "    <tr>\n",
       "      <th>month_name</th>\n",
       "      <td>-0.000640</td>\n",
       "      <td>0.007543</td>\n",
       "      <td>0.004787</td>\n",
       "      <td>0.001871</td>\n",
       "      <td>0.051479</td>\n",
       "      <td>1.000000</td>\n",
       "    </tr>\n",
       "  </tbody>\n",
       "</table>\n",
       "</div>"
      ],
      "text/plain": [
       "                 age    amount   weekday    gender   balance  month_name\n",
       "age         1.000000 -0.138594 -0.063549  0.031567  0.194956   -0.000640\n",
       "amount     -0.138594  1.000000 -0.154869  0.181306  0.287501    0.007543\n",
       "weekday    -0.063549 -0.154869  1.000000 -0.037365 -0.161711    0.004787\n",
       "gender      0.031567  0.181306 -0.037365  1.000000  0.138691    0.001871\n",
       "balance     0.194956  0.287501 -0.161711  0.138691  1.000000    0.051479\n",
       "month_name -0.000640  0.007543  0.004787  0.001871  0.051479    1.000000"
      ]
     },
     "execution_count": 28,
     "metadata": {},
     "output_type": "execute_result"
    }
   ],
   "source": [
    "x.corr()"
   ]
  },
  {
   "cell_type": "code",
   "execution_count": 29,
   "metadata": {},
   "outputs": [
    {
     "data": {
      "image/png": "[encoded data removed]",
      "text/plain": [
       "<Figure size 432x288 with 2 Axes>"
      ]
     },
     "metadata": {
      "needs_background": "light"
     },
     "output_type": "display_data"
    },
    {
     "data": {
      "text/plain": [
       "<Figure size 1440x1440 with 0 Axes>"
      ]
     },
     "metadata": {},
     "output_type": "display_data"
    }
   ],
   "source": [
    "sns.heatmap(x.corr(), annot=True)\n",
    "plt.figure(figsize=(20,20))\n",
    "plt.show()"
   ]
  },
  {
   "cell_type": "markdown",
   "metadata": {},
   "source": [
    "As no multicollinearity exists, we will proceed further"
   ]
  },
  {
   "cell_type": "markdown",
   "metadata": {},
   "source": [
    "# Data Splitting"
   ]
  },
  {
   "cell_type": "code",
   "execution_count": 30,
   "metadata": {},
   "outputs": [],
   "source": [
    "from sklearn.model_selection import train_test_split\n",
    "\n",
    "x_train, x_test, y_train, y_test = train_test_split(x, y, test_size=0.3)"
   ]
  },
  {
   "cell_type": "code",
   "execution_count": 31,
   "metadata": {},
   "outputs": [
    {
     "name": "stdout",
     "output_type": "stream",
     "text": [
      "(883, 6) (618, 6) (265, 6)\n"
     ]
    }
   ],
   "source": [
    "print(x.shape, x_train.shape, x_test.shape)"
   ]
  },
  {
   "cell_type": "markdown",
   "metadata": {},
   "source": [
    "# Linear Regression"
   ]
  },
  {
   "cell_type": "markdown",
   "metadata": {},
   "source": [
    "**Model Building**"
   ]
  },
  {
   "cell_type": "code",
   "execution_count": 32,
   "metadata": {},
   "outputs": [],
   "source": [
    "# loading the Linear Regression Model\n",
    "from sklearn.linear_model import LinearRegression\n",
    "\n",
    "linear_model = LinearRegression().fit(x_train,y_train)"
   ]
  },
  {
   "cell_type": "code",
   "execution_count": 33,
   "metadata": {},
   "outputs": [],
   "source": [
    "# Prediction on training data\n",
    "train_data_pred = linear_model.predict(x_train)"
   ]
  },
  {
   "cell_type": "code",
   "execution_count": 34,
   "metadata": {},
   "outputs": [
    {
     "name": "stdout",
     "output_type": "stream",
     "text": [
      "0.9999999415185085\n"
     ]
    }
   ],
   "source": [
    "# R squared Value for trainig data\n",
    "from sklearn import metrics\n",
    "\n",
    "R_sq_train = metrics.r2_score(y_train, train_data_pred)\n",
    "print(R_sq_train)"
   ]
  },
  {
   "cell_type": "markdown",
   "metadata": {},
   "source": [
    "**Model Evaluation**"
   ]
  },
  {
   "cell_type": "code",
   "execution_count": 35,
   "metadata": {},
   "outputs": [],
   "source": [
    "# Prediction on test data\n",
    "test_data_pred = linear_model.predict(x_test)"
   ]
  },
  {
   "cell_type": "code",
   "execution_count": 36,
   "metadata": {},
   "outputs": [
    {
     "name": "stdout",
     "output_type": "stream",
     "text": [
      "0.9999999538779182\n"
     ]
    }
   ],
   "source": [
    "# R squared Value for test data\n",
    "R_sq_test = metrics.r2_score(y_test, test_data_pred)\n",
    "print(R_sq_test)"
   ]
  },
  {
   "cell_type": "code",
   "execution_count": 37,
   "metadata": {},
   "outputs": [
    {
     "data": {
      "image/png": "[encoded data removed]",
      "text/plain": [
       "<Figure size 432x288 with 1 Axes>"
      ]
     },
     "metadata": {
      "needs_background": "light"
     },
     "output_type": "display_data"
    }
   ],
   "source": [
    "# Plot of predicted salary against actual salary\n",
    "fig, ax = plt.subplots()\n",
    "ax.scatter(y_test, test_data_pred, edgecolors=(0, 0, 0))\n",
    "ax.plot([y_test.min(), y_test.max()], [y_test.min(), y_test.max()], 'k--', lw=4)\n",
    "ax.set_xlabel('Actual')\n",
    "ax.set_ylabel('Predicted')\n",
    "ax.set_title(\"Annual Salary vs Predicted\")\n",
    "plt.show()"
   ]
  },
  {
   "cell_type": "code",
   "execution_count": 38,
   "metadata": {},
   "outputs": [
    {
     "data": {
      "text/html": [
       "<div>\n",
       "<style scoped>\n",
       "    .dataframe tbody tr th:only-of-type {\n",
       "        vertical-align: middle;\n",
       "    }\n",
       "\n",
       "    .dataframe tbody tr th {\n",
       "        vertical-align: top;\n",
       "    }\n",
       "\n",
       "    .dataframe thead th {\n",
       "        text-align: right;\n",
       "    }\n",
       "</style>\n",
       "<table border=\"1\" class=\"dataframe\">\n",
       "  <thead>\n",
       "    <tr style=\"text-align: right;\">\n",
       "      <th></th>\n",
       "      <th>Actual</th>\n",
       "      <th>Predicted</th>\n",
       "    </tr>\n",
       "  </thead>\n",
       "  <tbody>\n",
       "    <tr>\n",
       "      <th>11379</th>\n",
       "      <td>2572</td>\n",
       "      <td>2572.282363</td>\n",
       "    </tr>\n",
       "    <tr>\n",
       "      <th>10430</th>\n",
       "      <td>8835</td>\n",
       "      <td>8835.377651</td>\n",
       "    </tr>\n",
       "    <tr>\n",
       "      <th>4840</th>\n",
       "      <td>2470</td>\n",
       "      <td>2470.042780</td>\n",
       "    </tr>\n",
       "    <tr>\n",
       "      <th>11064</th>\n",
       "      <td>3712</td>\n",
       "      <td>3712.092730</td>\n",
       "    </tr>\n",
       "    <tr>\n",
       "      <th>7203</th>\n",
       "      <td>970</td>\n",
       "      <td>970.191013</td>\n",
       "    </tr>\n",
       "    <tr>\n",
       "      <th>10854</th>\n",
       "      <td>4054</td>\n",
       "      <td>4054.168898</td>\n",
       "    </tr>\n",
       "    <tr>\n",
       "      <th>7071</th>\n",
       "      <td>664</td>\n",
       "      <td>664.022138</td>\n",
       "    </tr>\n",
       "    <tr>\n",
       "      <th>1730</th>\n",
       "      <td>761</td>\n",
       "      <td>760.815946</td>\n",
       "    </tr>\n",
       "    <tr>\n",
       "      <th>2036</th>\n",
       "      <td>2544</td>\n",
       "      <td>2544.218027</td>\n",
       "    </tr>\n",
       "    <tr>\n",
       "      <th>7469</th>\n",
       "      <td>1808</td>\n",
       "      <td>1808.110759</td>\n",
       "    </tr>\n",
       "  </tbody>\n",
       "</table>\n",
       "</div>"
      ],
      "text/plain": [
       "       Actual    Predicted\n",
       "11379    2572  2572.282363\n",
       "10430    8835  8835.377651\n",
       "4840     2470  2470.042780\n",
       "11064    3712  3712.092730\n",
       "7203      970   970.191013\n",
       "10854    4054  4054.168898\n",
       "7071      664   664.022138\n",
       "1730      761   760.815946\n",
       "2036     2544  2544.218027\n",
       "7469     1808  1808.110759"
      ]
     },
     "execution_count": 38,
     "metadata": {},
     "output_type": "execute_result"
    }
   ],
   "source": [
    "# Comparing Actual vs Predicted test results\n",
    "results = pd.DataFrame({\"Actual\": y_test, \"Predicted\": test_data_pred})\n",
    "results.head(10)"
   ]
  },
  {
   "cell_type": "code",
   "execution_count": 39,
   "metadata": {},
   "outputs": [
    {
     "name": "stdout",
     "output_type": "stream",
     "text": [
      "Coefficient of determination :  0.9999999538779182\n",
      "Mean Squared Error :  0.07658552706948063\n",
      "Root Mean Squared Error :  0.2767409024150218\n",
      "Mean Absolute Error :  0.23420001077396643\n"
     ]
    }
   ],
   "source": [
    "print(\"Coefficient of determination : \", metrics.r2_score(y_test, test_data_pred))\n",
    "print(\"Mean Squared Error : \", metrics.mean_squared_error(y_test, test_data_pred))\n",
    "print(\"Root Mean Squared Error : \", np.sqrt(metrics.mean_squared_error(y_test, test_data_pred)))\n",
    "print(\"Mean Absolute Error : \", metrics.mean_absolute_error(y_test, test_data_pred))"
   ]
  },
  {
   "cell_type": "markdown",
   "metadata": {},
   "source": [
    "**Interpretation**"
   ]
  },
  {
   "cell_type": "markdown",
   "metadata": {},
   "source": [
    "- From the R-squared value, we observe that our Linear Regressionmodel is accurate to 99%.\n",
    "- As the mean square error, Root mean sqaure error values are close to 0, which indicates that the Linear Regression model is peforming good in predicting the anual salary.\n",
    "- The Mean absolute error value is close to zero depecting that our Linear Regression model is very good in predicting. "
   ]
  },
  {
   "cell_type": "markdown",
   "metadata": {},
   "source": [
    "# Decision Tree Regressor"
   ]
  },
  {
   "cell_type": "markdown",
   "metadata": {},
   "source": [
    "**Model Building**"
   ]
  },
  {
   "cell_type": "code",
   "execution_count": 40,
   "metadata": {},
   "outputs": [],
   "source": [
    "# Loading decision tree Model\n",
    "from sklearn.tree import DecisionTreeRegressor\n",
    "\n",
    "# loading the Model\n",
    "tree_model = DecisionTreeRegressor().fit(x_train,y_train)"
   ]
  },
  {
   "cell_type": "code",
   "execution_count": 41,
   "metadata": {},
   "outputs": [],
   "source": [
    "# Prediction on training data\n",
    "tree_train_pred = tree_model.predict(x_train)"
   ]
  },
  {
   "cell_type": "code",
   "execution_count": 42,
   "metadata": {},
   "outputs": [
    {
     "name": "stdout",
     "output_type": "stream",
     "text": [
      "1.0\n"
     ]
    }
   ],
   "source": [
    "# R squared Value for trainig data\n",
    "\n",
    "tree_R2_train = metrics.r2_score(y_train, tree_train_pred)\n",
    "print(tree_R2_train)"
   ]
  },
  {
   "cell_type": "markdown",
   "metadata": {},
   "source": [
    "**Model Evaluation**"
   ]
  },
  {
   "cell_type": "code",
   "execution_count": 43,
   "metadata": {},
   "outputs": [],
   "source": [
    "# Prediction on test data\n",
    "tree_test_pred = tree_model.predict(x_test)"
   ]
  },
  {
   "cell_type": "code",
   "execution_count": 44,
   "metadata": {},
   "outputs": [
    {
     "name": "stdout",
     "output_type": "stream",
     "text": [
      "1.0\n"
     ]
    }
   ],
   "source": [
    "# R squared Value for test data\n",
    "\n",
    "tree_R2_test = metrics.r2_score(y_test, tree_test_pred)\n",
    "print(tree_R2_test)"
   ]
  },
  {
   "cell_type": "code",
   "execution_count": 45,
   "metadata": {},
   "outputs": [
    {
     "data": {
      "image/png": "[encoded data removed]",
      "text/plain": [
       "<Figure size 432x288 with 1 Axes>"
      ]
     },
     "metadata": {
      "needs_background": "light"
     },
     "output_type": "display_data"
    }
   ],
   "source": [
    "# Plot of predicted salary against actual salary\n",
    "\n",
    "fig, ax = plt.subplots()\n",
    "ax.scatter(y_test, tree_test_pred, edgecolors=(0, 0, 0))\n",
    "ax.plot([y_test.min(), y_test.max()], [y_test.min(), y_test.max()], 'k--', lw=4)\n",
    "ax.set_xlabel('Actual')\n",
    "ax.set_ylabel('Predicted')\n",
    "ax.set_title(\"Annual Salary vs Predicted\")\n",
    "plt.show()"
   ]
  },
  {
   "cell_type": "code",
   "execution_count": 46,
   "metadata": {},
   "outputs": [
    {
     "data": {
      "text/html": [
       "<div>\n",
       "<style scoped>\n",
       "    .dataframe tbody tr th:only-of-type {\n",
       "        vertical-align: middle;\n",
       "    }\n",
       "\n",
       "    .dataframe tbody tr th {\n",
       "        vertical-align: top;\n",
       "    }\n",
       "\n",
       "    .dataframe thead th {\n",
       "        text-align: right;\n",
       "    }\n",
       "</style>\n",
       "<table border=\"1\" class=\"dataframe\">\n",
       "  <thead>\n",
       "    <tr style=\"text-align: right;\">\n",
       "      <th></th>\n",
       "      <th>Actual</th>\n",
       "      <th>Predicted</th>\n",
       "    </tr>\n",
       "  </thead>\n",
       "  <tbody>\n",
       "    <tr>\n",
       "      <th>11379</th>\n",
       "      <td>2572</td>\n",
       "      <td>2572.0</td>\n",
       "    </tr>\n",
       "    <tr>\n",
       "      <th>10430</th>\n",
       "      <td>8835</td>\n",
       "      <td>8835.0</td>\n",
       "    </tr>\n",
       "    <tr>\n",
       "      <th>4840</th>\n",
       "      <td>2470</td>\n",
       "      <td>2470.0</td>\n",
       "    </tr>\n",
       "    <tr>\n",
       "      <th>11064</th>\n",
       "      <td>3712</td>\n",
       "      <td>3712.0</td>\n",
       "    </tr>\n",
       "    <tr>\n",
       "      <th>7203</th>\n",
       "      <td>970</td>\n",
       "      <td>970.0</td>\n",
       "    </tr>\n",
       "    <tr>\n",
       "      <th>10854</th>\n",
       "      <td>4054</td>\n",
       "      <td>4054.0</td>\n",
       "    </tr>\n",
       "    <tr>\n",
       "      <th>7071</th>\n",
       "      <td>664</td>\n",
       "      <td>664.0</td>\n",
       "    </tr>\n",
       "    <tr>\n",
       "      <th>1730</th>\n",
       "      <td>761</td>\n",
       "      <td>761.0</td>\n",
       "    </tr>\n",
       "    <tr>\n",
       "      <th>2036</th>\n",
       "      <td>2544</td>\n",
       "      <td>2544.0</td>\n",
       "    </tr>\n",
       "    <tr>\n",
       "      <th>7469</th>\n",
       "      <td>1808</td>\n",
       "      <td>1808.0</td>\n",
       "    </tr>\n",
       "  </tbody>\n",
       "</table>\n",
       "</div>"
      ],
      "text/plain": [
       "       Actual  Predicted\n",
       "11379    2572     2572.0\n",
       "10430    8835     8835.0\n",
       "4840     2470     2470.0\n",
       "11064    3712     3712.0\n",
       "7203      970      970.0\n",
       "10854    4054     4054.0\n",
       "7071      664      664.0\n",
       "1730      761      761.0\n",
       "2036     2544     2544.0\n",
       "7469     1808     1808.0"
      ]
     },
     "execution_count": 46,
     "metadata": {},
     "output_type": "execute_result"
    }
   ],
   "source": [
    "# Comparing Actual vs Predicted test results\n",
    "results = pd.DataFrame({\"Actual\": y_test, \"Predicted\": tree_test_pred})\n",
    "results.head(10)"
   ]
  },
  {
   "cell_type": "code",
   "execution_count": 47,
   "metadata": {},
   "outputs": [
    {
     "name": "stdout",
     "output_type": "stream",
     "text": [
      "Coefficient of determination :  1.0\n",
      "Mean Squared Error :  0.0\n",
      "Root Mean Squared Error :  0.0\n",
      "Mean Absolute Error :  0.0\n"
     ]
    }
   ],
   "source": [
    "print(\"Coefficient of determination : \", metrics.r2_score(y_test, tree_test_pred))\n",
    "print(\"Mean Squared Error : \", metrics.mean_squared_error(y_test, tree_test_pred))\n",
    "print(\"Root Mean Squared Error : \", np.sqrt(metrics.mean_squared_error(y_test, tree_test_pred)))\n",
    "print(\"Mean Absolute Error : \", metrics.mean_absolute_error(y_test, tree_test_pred))"
   ]
  },
  {
   "cell_type": "markdown",
   "metadata": {},
   "source": [
    "**Interpretation**\n",
    "- From the R-squared value, we observe that our Decision Tree Regressor model absolutely accurate to 100%.\n",
    "- As the mean square error, Root mean sqaure error & mean absolute error values are 0, which indicates that the Decision Tree Regressor model is very accurate in predicting the anual salary."
   ]
  },
  {
   "cell_type": "markdown",
   "metadata": {},
   "source": [
    "# Support Vector Machine Regressor"
   ]
  },
  {
   "cell_type": "markdown",
   "metadata": {},
   "source": [
    "**Model Building**"
   ]
  },
  {
   "cell_type": "code",
   "execution_count": 48,
   "metadata": {},
   "outputs": [],
   "source": [
    "# Loading Support Vector Machine Model\n",
    "from sklearn import svm\n",
    "\n",
    "SVM_model = svm.SVR(kernel='linear').fit(x_train,y_train)"
   ]
  },
  {
   "cell_type": "code",
   "execution_count": 49,
   "metadata": {},
   "outputs": [],
   "source": [
    "# Prediction on training data\n",
    "SVM_train_data_pred = SVM_model.predict(x_train)"
   ]
  },
  {
   "cell_type": "code",
   "execution_count": 50,
   "metadata": {},
   "outputs": [
    {
     "name": "stdout",
     "output_type": "stream",
     "text": [
      "0.9339923257629389\n"
     ]
    }
   ],
   "source": [
    "# R squared Value for trainig data\n",
    "SVM_R_sq_train = metrics.r2_score(y_train, SVM_train_data_pred)\n",
    "print(SVM_R_sq_train)"
   ]
  },
  {
   "cell_type": "markdown",
   "metadata": {},
   "source": [
    "**Model Evaluation**"
   ]
  },
  {
   "cell_type": "code",
   "execution_count": 51,
   "metadata": {},
   "outputs": [],
   "source": [
    "# Prediction on test data\n",
    "SVM_test_data_pred = SVM_model.predict(x_test)"
   ]
  },
  {
   "cell_type": "code",
   "execution_count": 52,
   "metadata": {},
   "outputs": [
    {
     "name": "stdout",
     "output_type": "stream",
     "text": [
      "0.9480977842300329\n"
     ]
    }
   ],
   "source": [
    "# R squared Value for test data\n",
    "SVM_R_sq_test = metrics.r2_score(y_test, SVM_test_data_pred)\n",
    "print(SVM_R_sq_test)"
   ]
  },
  {
   "cell_type": "code",
   "execution_count": 53,
   "metadata": {},
   "outputs": [
    {
     "data": {
      "image/png": "[encoded data removed]",
      "text/plain": [
       "<Figure size 432x288 with 1 Axes>"
      ]
     },
     "metadata": {
      "needs_background": "light"
     },
     "output_type": "display_data"
    }
   ],
   "source": [
    "# Plot of predicted salary against actual salary\n",
    "\n",
    "fig, ax = plt.subplots()\n",
    "ax.scatter(y_test, SVM_test_data_pred, edgecolors=(0, 0, 0))\n",
    "ax.plot([y_test.min(), y_test.max()], [y_test.min(), y_test.max()], 'k--', lw=4)\n",
    "ax.set_xlabel('Actual')\n",
    "ax.set_ylabel('Predicted')\n",
    "ax.set_title(\"Annual Salary vs Predicted\")\n",
    "plt.show()"
   ]
  },
  {
   "cell_type": "code",
   "execution_count": 54,
   "metadata": {},
   "outputs": [
    {
     "data": {
      "text/html": [
       "<div>\n",
       "<style scoped>\n",
       "    .dataframe tbody tr th:only-of-type {\n",
       "        vertical-align: middle;\n",
       "    }\n",
       "\n",
       "    .dataframe tbody tr th {\n",
       "        vertical-align: top;\n",
       "    }\n",
       "\n",
       "    .dataframe thead th {\n",
       "        text-align: right;\n",
       "    }\n",
       "</style>\n",
       "<table border=\"1\" class=\"dataframe\">\n",
       "  <thead>\n",
       "    <tr style=\"text-align: right;\">\n",
       "      <th></th>\n",
       "      <th>Actual</th>\n",
       "      <th>Predicted</th>\n",
       "    </tr>\n",
       "  </thead>\n",
       "  <tbody>\n",
       "    <tr>\n",
       "      <th>11379</th>\n",
       "      <td>2572</td>\n",
       "      <td>2592.393707</td>\n",
       "    </tr>\n",
       "    <tr>\n",
       "      <th>10430</th>\n",
       "      <td>8835</td>\n",
       "      <td>9297.166258</td>\n",
       "    </tr>\n",
       "    <tr>\n",
       "      <th>4840</th>\n",
       "      <td>2470</td>\n",
       "      <td>2550.699932</td>\n",
       "    </tr>\n",
       "    <tr>\n",
       "      <th>11064</th>\n",
       "      <td>3712</td>\n",
       "      <td>3677.266990</td>\n",
       "    </tr>\n",
       "    <tr>\n",
       "      <th>7203</th>\n",
       "      <td>970</td>\n",
       "      <td>971.084662</td>\n",
       "    </tr>\n",
       "    <tr>\n",
       "      <th>10854</th>\n",
       "      <td>4054</td>\n",
       "      <td>4342.441426</td>\n",
       "    </tr>\n",
       "    <tr>\n",
       "      <th>7071</th>\n",
       "      <td>664</td>\n",
       "      <td>916.640926</td>\n",
       "    </tr>\n",
       "    <tr>\n",
       "      <th>1730</th>\n",
       "      <td>761</td>\n",
       "      <td>761.120976</td>\n",
       "    </tr>\n",
       "    <tr>\n",
       "      <th>2036</th>\n",
       "      <td>2544</td>\n",
       "      <td>2520.070944</td>\n",
       "    </tr>\n",
       "    <tr>\n",
       "      <th>7469</th>\n",
       "      <td>1808</td>\n",
       "      <td>1777.766629</td>\n",
       "    </tr>\n",
       "  </tbody>\n",
       "</table>\n",
       "</div>"
      ],
      "text/plain": [
       "       Actual    Predicted\n",
       "11379    2572  2592.393707\n",
       "10430    8835  9297.166258\n",
       "4840     2470  2550.699932\n",
       "11064    3712  3677.266990\n",
       "7203      970   971.084662\n",
       "10854    4054  4342.441426\n",
       "7071      664   916.640926\n",
       "1730      761   761.120976\n",
       "2036     2544  2520.070944\n",
       "7469     1808  1777.766629"
      ]
     },
     "execution_count": 54,
     "metadata": {},
     "output_type": "execute_result"
    }
   ],
   "source": [
    "# Comparing Actual vs Predicted test results\n",
    "results = pd.DataFrame({\"Actual\": y_test, \"Predicted\": SVM_test_data_pred})\n",
    "results.head(10)"
   ]
  },
  {
   "cell_type": "code",
   "execution_count": 55,
   "metadata": {},
   "outputs": [
    {
     "name": "stdout",
     "output_type": "stream",
     "text": [
      "Coefficient of determination :  0.9480977842300329\n",
      "Mean Squared Error :  86183.4157526652\n",
      "Root Mean Squared Error :  293.57012067420146\n",
      "Mean Absolute Error :  108.76032839534571\n"
     ]
    }
   ],
   "source": [
    "print(\"Coefficient of determination : \", metrics.r2_score(y_test, SVM_test_data_pred))\n",
    "print(\"Mean Squared Error : \", metrics.mean_squared_error(y_test, SVM_test_data_pred))\n",
    "print(\"Root Mean Squared Error : \", np.sqrt(metrics.mean_squared_error(y_test, SVM_test_data_pred)))\n",
    "print(\"Mean Absolute Error : \", metrics.mean_absolute_error(y_test, SVM_test_data_pred))"
   ]
  },
  {
   "cell_type": "markdown",
   "metadata": {},
   "source": [
    "**Interpretation**\n",
    "- From the R-squared value, we observe that our SVM Regressor model is accurate to 94%.\n",
    "- As the mean square error, Root mean sqaure error  & Mean absolute error values are not close to 0, which indicates that the SVM Regressor model is not good in predicting the anual salary."
   ]
  },
  {
   "cell_type": "markdown",
   "metadata": {},
   "source": [
    "# KNN Regressor"
   ]
  },
  {
   "cell_type": "markdown",
   "metadata": {},
   "source": [
    "**Model Building**"
   ]
  },
  {
   "cell_type": "code",
   "execution_count": 56,
   "metadata": {},
   "outputs": [
    {
     "name": "stdout",
     "output_type": "stream",
     "text": [
      "0.9034399488620949\n"
     ]
    }
   ],
   "source": [
    "# Loading KNN Model\n",
    "from sklearn.neighbors import KNeighborsRegressor\n",
    "\n",
    "# loading the Model\n",
    "KNN_model = KNeighborsRegressor(n_neighbors=5).fit(x_train,y_train)\n",
    "\n",
    "# R squared Value for trainig data\n",
    "KNN_train_pred = KNN_model.predict(x_train)\n",
    "KNN_R2_train = metrics.r2_score(y_train, KNN_train_pred)\n",
    "print(KNN_R2_train)"
   ]
  },
  {
   "cell_type": "code",
   "execution_count": 57,
   "metadata": {},
   "outputs": [
    {
     "name": "stdout",
     "output_type": "stream",
     "text": [
      "Fitting 5 folds for each of 13 candidates, totalling 65 fits\n"
     ]
    },
    {
     "name": "stderr",
     "output_type": "stream",
     "text": [
      "[Parallel(n_jobs=1)]: Using backend SequentialBackend with 1 concurrent workers.\n",
      "[Parallel(n_jobs=1)]: Done  65 out of  65 | elapsed:    0.2s finished\n"
     ]
    }
   ],
   "source": [
    "# hyperparameter tuning\n",
    "from sklearn.model_selection import GridSearchCV \n",
    "\n",
    "parameters = [{'n_neighbors':[3,4,5,6,7,8,9,10,11,12,13,14,15]}]\n",
    "search = GridSearchCV(KNN_model, parameters, scoring='neg_mean_squared_error', cv=5, verbose=True).fit(x_train,y_train)"
   ]
  },
  {
   "cell_type": "code",
   "execution_count": 58,
   "metadata": {},
   "outputs": [
    {
     "data": {
      "text/plain": [
       "{'n_neighbors': 3}"
      ]
     },
     "execution_count": 58,
     "metadata": {},
     "output_type": "execute_result"
    }
   ],
   "source": [
    "# optimum parameter values\n",
    "search.best_params_"
   ]
  },
  {
   "cell_type": "code",
   "execution_count": 59,
   "metadata": {},
   "outputs": [],
   "source": [
    "KNN_model = KNeighborsRegressor(n_neighbors=3).fit(x_train,y_train)"
   ]
  },
  {
   "cell_type": "code",
   "execution_count": 60,
   "metadata": {},
   "outputs": [
    {
     "name": "stdout",
     "output_type": "stream",
     "text": [
      "0.9264738013254797\n"
     ]
    }
   ],
   "source": [
    "# R squared Value for trainig data\n",
    "\n",
    "KNN_train_pred = KNN_model.predict(x_train)\n",
    "KNN_R2_train = metrics.r2_score(y_train, KNN_train_pred)\n",
    "print(KNN_R2_train)"
   ]
  },
  {
   "cell_type": "markdown",
   "metadata": {},
   "source": [
    "**Model Evaluation**"
   ]
  },
  {
   "cell_type": "code",
   "execution_count": 61,
   "metadata": {},
   "outputs": [],
   "source": [
    "# Prediction on test data\n",
    "KNN_test_pred = KNN_model.predict(x_test)"
   ]
  },
  {
   "cell_type": "code",
   "execution_count": 62,
   "metadata": {},
   "outputs": [
    {
     "name": "stdout",
     "output_type": "stream",
     "text": [
      "0.7496042364910661\n"
     ]
    }
   ],
   "source": [
    "# R squared Value for test data\n",
    "\n",
    "KNN_R2_test = metrics.r2_score(y_test, KNN_test_pred)\n",
    "print(KNN_R2_test)"
   ]
  },
  {
   "cell_type": "code",
   "execution_count": 63,
   "metadata": {},
   "outputs": [
    {
     "data": {
      "image/png": "[encoded data removed]",
      "text/plain": [
       "<Figure size 432x288 with 1 Axes>"
      ]
     },
     "metadata": {
      "needs_background": "light"
     },
     "output_type": "display_data"
    }
   ],
   "source": [
    "# Plot of predicted salary against actual salary\n",
    "\n",
    "fig, ax = plt.subplots()\n",
    "ax.scatter(y_test, KNN_test_pred, edgecolors=(0, 0, 0))\n",
    "ax.plot([y_test.min(), y_test.max()], [y_test.min(), y_test.max()], 'k--', lw=4)\n",
    "ax.set_xlabel('Actual')\n",
    "ax.set_ylabel('Predicted')\n",
    "ax.set_title(\"Annual Salary vs Predicted\")\n",
    "plt.show()"
   ]
  },
  {
   "cell_type": "code",
   "execution_count": 64,
   "metadata": {},
   "outputs": [
    {
     "data": {
      "text/html": [
       "<div>\n",
       "<style scoped>\n",
       "    .dataframe tbody tr th:only-of-type {\n",
       "        vertical-align: middle;\n",
       "    }\n",
       "\n",
       "    .dataframe tbody tr th {\n",
       "        vertical-align: top;\n",
       "    }\n",
       "\n",
       "    .dataframe thead th {\n",
       "        text-align: right;\n",
       "    }\n",
       "</style>\n",
       "<table border=\"1\" class=\"dataframe\">\n",
       "  <thead>\n",
       "    <tr style=\"text-align: right;\">\n",
       "      <th></th>\n",
       "      <th>Actual</th>\n",
       "      <th>Predicted</th>\n",
       "    </tr>\n",
       "  </thead>\n",
       "  <tbody>\n",
       "    <tr>\n",
       "      <th>11379</th>\n",
       "      <td>2572</td>\n",
       "      <td>2553.00</td>\n",
       "    </tr>\n",
       "    <tr>\n",
       "      <th>10430</th>\n",
       "      <td>8835</td>\n",
       "      <td>4247.25</td>\n",
       "    </tr>\n",
       "    <tr>\n",
       "      <th>4840</th>\n",
       "      <td>2470</td>\n",
       "      <td>2232.50</td>\n",
       "    </tr>\n",
       "    <tr>\n",
       "      <th>11064</th>\n",
       "      <td>3712</td>\n",
       "      <td>3441.50</td>\n",
       "    </tr>\n",
       "    <tr>\n",
       "      <th>7203</th>\n",
       "      <td>970</td>\n",
       "      <td>952.25</td>\n",
       "    </tr>\n",
       "    <tr>\n",
       "      <th>10854</th>\n",
       "      <td>4054</td>\n",
       "      <td>2944.00</td>\n",
       "    </tr>\n",
       "    <tr>\n",
       "      <th>7071</th>\n",
       "      <td>664</td>\n",
       "      <td>1081.00</td>\n",
       "    </tr>\n",
       "    <tr>\n",
       "      <th>1730</th>\n",
       "      <td>761</td>\n",
       "      <td>978.00</td>\n",
       "    </tr>\n",
       "    <tr>\n",
       "      <th>2036</th>\n",
       "      <td>2544</td>\n",
       "      <td>2436.50</td>\n",
       "    </tr>\n",
       "    <tr>\n",
       "      <th>7469</th>\n",
       "      <td>1808</td>\n",
       "      <td>1874.25</td>\n",
       "    </tr>\n",
       "  </tbody>\n",
       "</table>\n",
       "</div>"
      ],
      "text/plain": [
       "       Actual  Predicted\n",
       "11379    2572    2553.00\n",
       "10430    8835    4247.25\n",
       "4840     2470    2232.50\n",
       "11064    3712    3441.50\n",
       "7203      970     952.25\n",
       "10854    4054    2944.00\n",
       "7071      664    1081.00\n",
       "1730      761     978.00\n",
       "2036     2544    2436.50\n",
       "7469     1808    1874.25"
      ]
     },
     "execution_count": 64,
     "metadata": {},
     "output_type": "execute_result"
    }
   ],
   "source": [
    "# Comparing Actual vs Predicted test results\n",
    "results = pd.DataFrame({\"Actual\": y_test, \"Predicted\": KNN_test_pred})\n",
    "results.head(10)"
   ]
  },
  {
   "cell_type": "code",
   "execution_count": 65,
   "metadata": {},
   "outputs": [
    {
     "name": "stdout",
     "output_type": "stream",
     "text": [
      "Coefficient of determination :  0.7496042364910661\n",
      "Mean Squared Error :  415781.1351415094\n",
      "Root Mean Squared Error :  644.8109297627557\n",
      "Mean Absolute Error :  237.98207547169812\n"
     ]
    }
   ],
   "source": [
    "print(\"Coefficient of determination : \", metrics.r2_score(y_test, KNN_test_pred))\n",
    "print(\"Mean Squared Error : \", metrics.mean_squared_error(y_test, KNN_test_pred))\n",
    "print(\"Root Mean Squared Error : \", np.sqrt(metrics.mean_squared_error(y_test, KNN_test_pred)))\n",
    "print(\"Mean Absolute Error : \", metrics.mean_absolute_error(y_test, KNN_test_pred))"
   ]
  },
  {
   "cell_type": "markdown",
   "metadata": {},
   "source": [
    "**Interpretation**\n",
    "- From the R-squared value, we observe that our KNN Regressor model is accurate to 75%.\n",
    "- As the mean square error, Root mean sqaure error & Mean absolute error values are not close to 0, which indicates that the KNN Regressor model is not good in predicting the anual salary."
   ]
  },
  {
   "cell_type": "markdown",
   "metadata": {},
   "source": [
    "# Random Forest Regressor"
   ]
  },
  {
   "cell_type": "markdown",
   "metadata": {},
   "source": [
    "**Model Building**"
   ]
  },
  {
   "cell_type": "code",
   "execution_count": 82,
   "metadata": {},
   "outputs": [
    {
     "name": "stdout",
     "output_type": "stream",
     "text": [
      "0.9932869082765658\n"
     ]
    }
   ],
   "source": [
    "# Loading random forest Model\n",
    "from sklearn.ensemble import RandomForestRegressor\n",
    "\n",
    "# loading the Model\n",
    "rf_model = RandomForestRegressor(n_estimators=500, max_features='sqrt').fit(x_train,y_train)\n",
    "\n",
    "# R squared Value for trainig data\n",
    "rf_train_pred = rf_model.predict(x_train)\n",
    "rf_R2_train = metrics.r2_score(y_train, rf_train_pred)\n",
    "print(rf_R2_train)"
   ]
  },
  {
   "cell_type": "code",
   "execution_count": 83,
   "metadata": {},
   "outputs": [
    {
     "name": "stdout",
     "output_type": "stream",
     "text": [
      "Fitting 5 folds for each of 6 candidates, totalling 30 fits\n"
     ]
    },
    {
     "name": "stderr",
     "output_type": "stream",
     "text": [
      "[Parallel(n_jobs=1)]: Using backend SequentialBackend with 1 concurrent workers.\n",
      "[Parallel(n_jobs=1)]: Done  30 out of  30 | elapsed:   12.2s finished\n"
     ]
    }
   ],
   "source": [
    "# hyperparameter tuning\n",
    "from sklearn.model_selection import GridSearchCV \n",
    "\n",
    "parameters = [{'n_estimators':[100,200,300,400,500,600]}]\n",
    "search = GridSearchCV(rf_model, parameters, scoring='neg_mean_squared_error', cv=5, verbose=True).fit(x_train,y_train)"
   ]
  },
  {
   "cell_type": "code",
   "execution_count": 84,
   "metadata": {},
   "outputs": [
    {
     "data": {
      "text/plain": [
       "{'n_estimators': 500}"
      ]
     },
     "execution_count": 84,
     "metadata": {},
     "output_type": "execute_result"
    }
   ],
   "source": [
    "# optimum parameter values\n",
    "search.best_params_"
   ]
  },
  {
   "cell_type": "code",
   "execution_count": 85,
   "metadata": {},
   "outputs": [],
   "source": [
    "rf_model = RandomForestRegressor(n_estimators=500, max_features='sqrt').fit(x_train,y_train)"
   ]
  },
  {
   "cell_type": "code",
   "execution_count": 86,
   "metadata": {},
   "outputs": [
    {
     "name": "stdout",
     "output_type": "stream",
     "text": [
      "0.9943795581674075\n"
     ]
    }
   ],
   "source": [
    "# R squared Value for trainig data\n",
    "\n",
    "rf_train_pred = rf_model.predict(x_train)\n",
    "rf_R2_train = metrics.r2_score(y_train, rf_train_pred)\n",
    "print(rf_R2_train)"
   ]
  },
  {
   "cell_type": "markdown",
   "metadata": {},
   "source": [
    "**Model Evaluation**"
   ]
  },
  {
   "cell_type": "code",
   "execution_count": 87,
   "metadata": {},
   "outputs": [],
   "source": [
    "# Prediction on test data\n",
    "rf_test_pred = rf_model.predict(x_test)"
   ]
  },
  {
   "cell_type": "code",
   "execution_count": 88,
   "metadata": {},
   "outputs": [
    {
     "name": "stdout",
     "output_type": "stream",
     "text": [
      "0.9404229634479092\n"
     ]
    }
   ],
   "source": [
    "# R squared Value for test data\n",
    "\n",
    "rf_R2_test = metrics.r2_score(y_test, rf_test_pred)\n",
    "print(rf_R2_test)"
   ]
  },
  {
   "cell_type": "code",
   "execution_count": 89,
   "metadata": {},
   "outputs": [
    {
     "data": {
      "image/png": "[encoded data removed]",
      "text/plain": [
       "<Figure size 432x288 with 1 Axes>"
      ]
     },
     "metadata": {
      "needs_background": "light"
     },
     "output_type": "display_data"
    }
   ],
   "source": [
    "# Plot of predicted salary against actual salary\n",
    "\n",
    "fig, ax = plt.subplots()\n",
    "ax.scatter(y_test, rf_test_pred, edgecolors=(0, 0, 0))\n",
    "ax.plot([y_test.min(), y_test.max()], [y_test.min(), y_test.max()], 'k--', lw=4)\n",
    "ax.set_xlabel('Actual')\n",
    "ax.set_ylabel('Predicted')\n",
    "ax.set_title(\"Annual Salary vs Predicted\")\n",
    "plt.show()"
   ]
  },
  {
   "cell_type": "code",
   "execution_count": 90,
   "metadata": {},
   "outputs": [
    {
     "data": {
      "text/html": [
       "<div>\n",
       "<style scoped>\n",
       "    .dataframe tbody tr th:only-of-type {\n",
       "        vertical-align: middle;\n",
       "    }\n",
       "\n",
       "    .dataframe tbody tr th {\n",
       "        vertical-align: top;\n",
       "    }\n",
       "\n",
       "    .dataframe thead th {\n",
       "        text-align: right;\n",
       "    }\n",
       "</style>\n",
       "<table border=\"1\" class=\"dataframe\">\n",
       "  <thead>\n",
       "    <tr style=\"text-align: right;\">\n",
       "      <th></th>\n",
       "      <th>Actual</th>\n",
       "      <th>Predicted</th>\n",
       "    </tr>\n",
       "  </thead>\n",
       "  <tbody>\n",
       "    <tr>\n",
       "      <th>11379</th>\n",
       "      <td>2572</td>\n",
       "      <td>2584.493333</td>\n",
       "    </tr>\n",
       "    <tr>\n",
       "      <th>10430</th>\n",
       "      <td>8835</td>\n",
       "      <td>7500.210000</td>\n",
       "    </tr>\n",
       "    <tr>\n",
       "      <th>4840</th>\n",
       "      <td>2470</td>\n",
       "      <td>2452.786667</td>\n",
       "    </tr>\n",
       "    <tr>\n",
       "      <th>11064</th>\n",
       "      <td>3712</td>\n",
       "      <td>3680.366667</td>\n",
       "    </tr>\n",
       "    <tr>\n",
       "      <th>7203</th>\n",
       "      <td>970</td>\n",
       "      <td>987.800000</td>\n",
       "    </tr>\n",
       "    <tr>\n",
       "      <th>10854</th>\n",
       "      <td>4054</td>\n",
       "      <td>3990.906667</td>\n",
       "    </tr>\n",
       "    <tr>\n",
       "      <th>7071</th>\n",
       "      <td>664</td>\n",
       "      <td>695.293333</td>\n",
       "    </tr>\n",
       "    <tr>\n",
       "      <th>1730</th>\n",
       "      <td>761</td>\n",
       "      <td>812.040000</td>\n",
       "    </tr>\n",
       "    <tr>\n",
       "      <th>2036</th>\n",
       "      <td>2544</td>\n",
       "      <td>2517.040000</td>\n",
       "    </tr>\n",
       "    <tr>\n",
       "      <th>7469</th>\n",
       "      <td>1808</td>\n",
       "      <td>1769.026667</td>\n",
       "    </tr>\n",
       "  </tbody>\n",
       "</table>\n",
       "</div>"
      ],
      "text/plain": [
       "       Actual    Predicted\n",
       "11379    2572  2584.493333\n",
       "10430    8835  7500.210000\n",
       "4840     2470  2452.786667\n",
       "11064    3712  3680.366667\n",
       "7203      970   987.800000\n",
       "10854    4054  3990.906667\n",
       "7071      664   695.293333\n",
       "1730      761   812.040000\n",
       "2036     2544  2517.040000\n",
       "7469     1808  1769.026667"
      ]
     },
     "execution_count": 90,
     "metadata": {},
     "output_type": "execute_result"
    }
   ],
   "source": [
    "# Comparing Actual vs Predicted test results\n",
    "results = pd.DataFrame({\"Actual\": y_test, \"Predicted\": rf_test_pred})\n",
    "results.head(10)"
   ]
  },
  {
   "cell_type": "code",
   "execution_count": 91,
   "metadata": {},
   "outputs": [
    {
     "name": "stdout",
     "output_type": "stream",
     "text": [
      "Coefficient of determination :  0.9404229634479092\n",
      "Mean Squared Error :  98927.42408603773\n",
      "Root Mean Squared Error :  314.52730260827553\n",
      "Mean Absolute Error :  77.59519496855346\n"
     ]
    }
   ],
   "source": [
    "print(\"Coefficient of determination : \", metrics.r2_score(y_test, rf_test_pred))\n",
    "print(\"Mean Squared Error : \", metrics.mean_squared_error(y_test, rf_test_pred))\n",
    "print(\"Root Mean Squared Error : \", np.sqrt(metrics.mean_squared_error(y_test, rf_test_pred)))\n",
    "print(\"Mean Absolute Error : \", metrics.mean_absolute_error(y_test, rf_test_pred))"
   ]
  },
  {
   "cell_type": "markdown",
   "metadata": {},
   "source": [
    "**Interpretation**\n",
    "- From the R-squared value, we observe that our Random Forest model is accurate to 94%.\n",
    "- As the mean square error, Root mean sqaure error & Mean absolute error values are not close to 0, which indicates that the Random Forest model is not good in predicting the anual salary."
   ]
  },
  {
   "cell_type": "markdown",
   "metadata": {},
   "source": [
    "# Bagging"
   ]
  },
  {
   "cell_type": "markdown",
   "metadata": {},
   "source": [
    "**Model Building**"
   ]
  },
  {
   "cell_type": "code",
   "execution_count": 92,
   "metadata": {},
   "outputs": [
    {
     "name": "stdout",
     "output_type": "stream",
     "text": [
      "0.9981083291522947\n"
     ]
    }
   ],
   "source": [
    "# loading the Model\n",
    "bag_model = RandomForestRegressor(n_estimators=500, max_features=None).fit(x_train,y_train)\n",
    "\n",
    "# R squared Value for trainig data\n",
    "bag_train_pred = bag_model.predict(x_train)\n",
    "bag_R2_train = metrics.r2_score(y_train, bag_train_pred)\n",
    "print(bag_R2_train)"
   ]
  },
  {
   "cell_type": "code",
   "execution_count": 93,
   "metadata": {},
   "outputs": [
    {
     "name": "stdout",
     "output_type": "stream",
     "text": [
      "Fitting 5 folds for each of 6 candidates, totalling 30 fits\n"
     ]
    },
    {
     "name": "stderr",
     "output_type": "stream",
     "text": [
      "[Parallel(n_jobs=1)]: Using backend SequentialBackend with 1 concurrent workers.\n",
      "[Parallel(n_jobs=1)]: Done  30 out of  30 | elapsed:   14.8s finished\n"
     ]
    }
   ],
   "source": [
    "# hyperparameter tuning\n",
    "parameters = [{'n_estimators':[100,200,300,400,500,600]}]\n",
    "search = GridSearchCV(bag_model, parameters, scoring='neg_mean_squared_error', cv=5, verbose=True).fit(x_train,y_train)"
   ]
  },
  {
   "cell_type": "code",
   "execution_count": 94,
   "metadata": {},
   "outputs": [
    {
     "data": {
      "text/plain": [
       "{'n_estimators': 300}"
      ]
     },
     "execution_count": 94,
     "metadata": {},
     "output_type": "execute_result"
    }
   ],
   "source": [
    "# optimum parameter values\n",
    "search.best_params_"
   ]
  },
  {
   "cell_type": "code",
   "execution_count": 95,
   "metadata": {},
   "outputs": [],
   "source": [
    "bag_model = RandomForestRegressor(n_estimators=300, max_features=None).fit(x_train,y_train)"
   ]
  },
  {
   "cell_type": "code",
   "execution_count": 96,
   "metadata": {},
   "outputs": [
    {
     "name": "stdout",
     "output_type": "stream",
     "text": [
      "0.9975421565745112\n"
     ]
    }
   ],
   "source": [
    "# R squared Value for trainig data\n",
    "\n",
    "bag_train_pred = bag_model.predict(x_train)\n",
    "bag_R2_train = metrics.r2_score(y_train, bag_train_pred)\n",
    "print(bag_R2_train)"
   ]
  },
  {
   "cell_type": "markdown",
   "metadata": {},
   "source": [
    "**Model Evaluation**"
   ]
  },
  {
   "cell_type": "code",
   "execution_count": 97,
   "metadata": {},
   "outputs": [],
   "source": [
    "# Prediction on test data\n",
    "bag_test_pred = bag_model.predict(x_test)"
   ]
  },
  {
   "cell_type": "code",
   "execution_count": 98,
   "metadata": {},
   "outputs": [
    {
     "name": "stdout",
     "output_type": "stream",
     "text": [
      "0.9876925067222695\n"
     ]
    }
   ],
   "source": [
    "# R squared Value for test data\n",
    "\n",
    "bag_R2_test = metrics.r2_score(y_test, bag_test_pred)\n",
    "print(bag_R2_test)"
   ]
  },
  {
   "cell_type": "code",
   "execution_count": 99,
   "metadata": {},
   "outputs": [
    {
     "data": {
      "image/png": "[encoded data removed]",
      "text/plain": [
       "<Figure size 432x288 with 1 Axes>"
      ]
     },
     "metadata": {
      "needs_background": "light"
     },
     "output_type": "display_data"
    }
   ],
   "source": [
    "# Plot of predicted salary against actual salary\n",
    "\n",
    "fig, ax = plt.subplots()\n",
    "ax.scatter(y_test, bag_test_pred, edgecolors=(0, 0, 0))\n",
    "ax.plot([y_test.min(), y_test.max()], [y_test.min(), y_test.max()], 'k--', lw=4)\n",
    "ax.set_xlabel('Actual')\n",
    "ax.set_ylabel('Predicted')\n",
    "ax.set_title(\"Annual Salary vs Predicted\")\n",
    "plt.show()"
   ]
  },
  {
   "cell_type": "code",
   "execution_count": 100,
   "metadata": {},
   "outputs": [
    {
     "data": {
      "text/html": [
       "<div>\n",
       "<style scoped>\n",
       "    .dataframe tbody tr th:only-of-type {\n",
       "        vertical-align: middle;\n",
       "    }\n",
       "\n",
       "    .dataframe tbody tr th {\n",
       "        vertical-align: top;\n",
       "    }\n",
       "\n",
       "    .dataframe thead th {\n",
       "        text-align: right;\n",
       "    }\n",
       "</style>\n",
       "<table border=\"1\" class=\"dataframe\">\n",
       "  <thead>\n",
       "    <tr style=\"text-align: right;\">\n",
       "      <th></th>\n",
       "      <th>Actual</th>\n",
       "      <th>Predicted</th>\n",
       "    </tr>\n",
       "  </thead>\n",
       "  <tbody>\n",
       "    <tr>\n",
       "      <th>11379</th>\n",
       "      <td>2572</td>\n",
       "      <td>2572.570</td>\n",
       "    </tr>\n",
       "    <tr>\n",
       "      <th>10430</th>\n",
       "      <td>8835</td>\n",
       "      <td>7505.190</td>\n",
       "    </tr>\n",
       "    <tr>\n",
       "      <th>4840</th>\n",
       "      <td>2470</td>\n",
       "      <td>2469.565</td>\n",
       "    </tr>\n",
       "    <tr>\n",
       "      <th>11064</th>\n",
       "      <td>3712</td>\n",
       "      <td>3696.340</td>\n",
       "    </tr>\n",
       "    <tr>\n",
       "      <th>7203</th>\n",
       "      <td>970</td>\n",
       "      <td>970.000</td>\n",
       "    </tr>\n",
       "    <tr>\n",
       "      <th>10854</th>\n",
       "      <td>4054</td>\n",
       "      <td>4050.555</td>\n",
       "    </tr>\n",
       "    <tr>\n",
       "      <th>7071</th>\n",
       "      <td>664</td>\n",
       "      <td>664.000</td>\n",
       "    </tr>\n",
       "    <tr>\n",
       "      <th>1730</th>\n",
       "      <td>761</td>\n",
       "      <td>761.000</td>\n",
       "    </tr>\n",
       "    <tr>\n",
       "      <th>2036</th>\n",
       "      <td>2544</td>\n",
       "      <td>2543.970</td>\n",
       "    </tr>\n",
       "    <tr>\n",
       "      <th>7469</th>\n",
       "      <td>1808</td>\n",
       "      <td>1814.100</td>\n",
       "    </tr>\n",
       "  </tbody>\n",
       "</table>\n",
       "</div>"
      ],
      "text/plain": [
       "       Actual  Predicted\n",
       "11379    2572   2572.570\n",
       "10430    8835   7505.190\n",
       "4840     2470   2469.565\n",
       "11064    3712   3696.340\n",
       "7203      970    970.000\n",
       "10854    4054   4050.555\n",
       "7071      664    664.000\n",
       "1730      761    761.000\n",
       "2036     2544   2543.970\n",
       "7469     1808   1814.100"
      ]
     },
     "execution_count": 100,
     "metadata": {},
     "output_type": "execute_result"
    }
   ],
   "source": [
    "# Comparing Actual vs Predicted test results\n",
    "results = pd.DataFrame({\"Actual\": y_test, \"Predicted\": bag_test_pred})\n",
    "results.head(10)"
   ]
  },
  {
   "cell_type": "code",
   "execution_count": 101,
   "metadata": {},
   "outputs": [
    {
     "name": "stdout",
     "output_type": "stream",
     "text": [
      "Coefficient of determination :  0.9876925067222695\n",
      "Mean Squared Error :  20436.541952830186\n",
      "Root Mean Squared Error :  142.95643375808655\n",
      "Mean Absolute Error :  16.325320754716966\n"
     ]
    }
   ],
   "source": [
    "print(\"Coefficient of determination : \", metrics.r2_score(y_test, bag_test_pred))\n",
    "print(\"Mean Squared Error : \", metrics.mean_squared_error(y_test, bag_test_pred))\n",
    "print(\"Root Mean Squared Error : \", np.sqrt(metrics.mean_squared_error(y_test, bag_test_pred)))\n",
    "print(\"Mean Absolute Error : \", metrics.mean_absolute_error(y_test, bag_test_pred))"
   ]
  },
  {
   "cell_type": "markdown",
   "metadata": {},
   "source": [
    "**Interpretation**\n",
    "- From the R-squared value, we observe that our Bagging model is accurate to 98%.\n",
    "- As the mean square error, Root mean sqaure error & Mean absolute error values are not close to 0, which indicates that the Bagging model is not good in predicting the anual salary."
   ]
  },
  {
   "cell_type": "markdown",
   "metadata": {},
   "source": [
    "# Comparison"
   ]
  },
  {
   "cell_type": "markdown",
   "metadata": {},
   "source": [
    "Decreasing order of R-square values are depicted as:\n",
    "\n",
    "- Decision Tree Regressor - 1.0\n",
    "- Linear Reression - 0.9999\n",
    "- Bagging - 0.9876\n",
    "- SVM Regressor - 0.9480\n",
    "- Random Forest Regressor - 0.9404\n",
    "- KNN Regressor - 0.7496"
   ]
  },
  {
   "cell_type": "markdown",
   "metadata": {},
   "source": [
    "The results are highly clear both Linear Regression model ad Decision Tree Regressor models are good in predicting the annual salary. For the remaining models, the R-squared score is good but the MSE, RMSE & MAE vcalues are not getting close to 0, which implies these models are not good at predicting the annual salary."
   ]
  },
  {
   "cell_type": "markdown",
   "metadata": {},
   "source": [
    "# Building a predective system"
   ]
  },
  {
   "cell_type": "code",
   "execution_count": 102,
   "metadata": {},
   "outputs": [],
   "source": [
    "# input data -> (age: 22, amount: 983.36, weekday: 4, gender: 1, balance: 3158.51, month_name: 0)\n",
    "\n",
    "input_data = (22, 983.36, 4, 1, 3158.51, 0)\n",
    "\n",
    "# changing input_data to numpy array\n",
    "input_data_array = np.asarray(input_data)\n",
    "\n",
    "# reshaping the array\n",
    "input_data_reshape = input_data_array.reshape(1, -1)"
   ]
  },
  {
   "cell_type": "code",
   "execution_count": 103,
   "metadata": {},
   "outputs": [
    {
     "name": "stdout",
     "output_type": "stream",
     "text": [
      "[983.]\n"
     ]
    }
   ],
   "source": [
    "prediction = tree_model.predict(input_data_reshape)\n",
    "print(prediction)"
   ]
  },
  {
   "cell_type": "code",
   "execution_count": 104,
   "metadata": {},
   "outputs": [],
   "source": [
    "# input data -> (age: 40, amount: 1048.52, weekday: 2, gender: 0, balance: 1747.91, month_name: 2)\n",
    "\n",
    "input_data = (40, 1048.52, 2, 0, 1747.91, 2)\n",
    "\n",
    "# changing input_data to numpy array\n",
    "input_data_array = np.asarray(input_data)\n",
    "\n",
    "# reshaping the array\n",
    "input_data_reshape = input_data_array.reshape(1, -1)"
   ]
  },
  {
   "cell_type": "code",
   "execution_count": 105,
   "metadata": {},
   "outputs": [
    {
     "name": "stdout",
     "output_type": "stream",
     "text": [
      "[998.61333333]\n"
     ]
    }
   ],
   "source": [
    "prediction = rf_model.predict(input_data_reshape)\n",
    "print(prediction)"
   ]
  },
  {
   "cell_type": "code",
   "execution_count": null,
   "metadata": {},
   "outputs": [],
   "source": []
  }
 ],
 "metadata": {
  "kernelspec": {
   "display_name": "Python 3",
   "language": "python",
   "name": "python3"
  },
  "language_info": {
   "codemirror_mode": {
    "name": "ipython",
    "version": 3
   },
   "file_extension": ".py",
   "mimetype": "text/x-python",
   "name": "python",
   "nbconvert_exporter": "python",
   "pygments_lexer": "ipython3",
   "version": "3.8.5"
  }
 },
 "nbformat": 4,
 "nbformat_minor": 4
}
